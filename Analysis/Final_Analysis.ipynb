{
 "cells": [
  {
   "cell_type": "code",
   "execution_count": null,
   "metadata": {},
   "outputs": [],
   "source": [
    "#Import dependencies\n",
    "import matplotlib.pyplot as plt\n",
    "import pandas as pd\n",
    "import scipy.stats as st\n",
    "import numpy as np\n",
    "from scipy.stats import linregress\n",
    "from scipy.stats import pearsonr"
   ]
  },
  {
   "cell_type": "markdown",
   "metadata": {},
   "source": [
    "# Analyzing Total Energy Consumption by State per Sector"
   ]
  },
  {
   "cell_type": "code",
   "execution_count": null,
   "metadata": {},
   "outputs": [],
   "source": [
    "#Pull up Residential Energy Consumption throughout 50 states (including USA totals) dataframe from CSV file\n",
    "df_res = pd.read_csv (r'Residential_Energy_Consumption_Updated.csv')\n",
    "print (df_res)"
   ]
  },
  {
   "cell_type": "code",
   "execution_count": null,
   "metadata": {},
   "outputs": [],
   "source": [
    "#Pull up Commercial and Industrial Energy Consumption throughout 50 states (including USA totals) dataframe\n",
    "# from CSV file\n",
    "df_com = pd.read_csv (r'Commercial_Energy_Consumption.csv')\n",
    "print (df_com)"
   ]
  },
  {
   "cell_type": "code",
   "execution_count": null,
   "metadata": {},
   "outputs": [],
   "source": [
    "#Pull up Commercial and Industrial Energy Consumption throughout 50 states (including USA totals) dataframe\n",
    "# from CSV file\n",
    "df_ind = pd.read_csv (r'Industrial_Energy_Consumption.csv')\n",
    "print (df_ind)"
   ]
  },
  {
   "cell_type": "code",
   "execution_count": null,
   "metadata": {},
   "outputs": [],
   "source": [
    "#Merge 3 DataFrames together\n",
    "df_merged = pd.merge(df_res, df_com, on=\"State\", suffixes=(None, \"_Com\"))\n",
    "df_merged"
   ]
  },
  {
   "cell_type": "code",
   "execution_count": null,
   "metadata": {},
   "outputs": [],
   "source": [
    "df_merged_final = pd.merge(df_merged, df_ind, on=\"State\", suffixes=(\"_Res\", \"_Ind\"))\n",
    "df_merged_final = df_merged_final.drop([50])\n",
    "df_merged_final"
   ]
  },
  {
   "cell_type": "code",
   "execution_count": null,
   "metadata": {},
   "outputs": [],
   "source": [
    "#Create new DataFRame with just subtotals per sector\n",
    "subtotal_df = df_merged_final[[\"State\", \"SubTotal_Res\", \"SubTotal_Com\", \"SubTotal_Ind\"]]\n",
    "subtotal_df[\"Total\"]=(subtotal_df[\"SubTotal_Res\"]+subtotal_df[\"SubTotal_Com\"]+subtotal_df[\"SubTotal_Ind\"])\n",
    "subtotal_df = subtotal_df.sort_values(\"Total\")\n",
    "subtotal_df"
   ]
  },
  {
   "cell_type": "code",
   "execution_count": null,
   "metadata": {},
   "outputs": [],
   "source": [
    "#Create a stacked bar chart to visualize energy consumption by sector per state\n",
    "\n",
    "plt.figure(figsize=(20,15))\n",
    "\n",
    "width = 0.35       # the width of the bars: can also be len(x) sequence\n",
    "p1 = plt.bar(subtotal_df[\"State\"], subtotal_df[\"SubTotal_Res\"], width)\n",
    "p2 = plt.bar(subtotal_df[\"State\"], subtotal_df[\"SubTotal_Com\"], width)\n",
    "p3 = plt.bar(subtotal_df[\"State\"], subtotal_df[\"SubTotal_Ind\"], width)\n",
    "\n",
    "plt.ylabel('Consumption')\n",
    "plt.title('Energy Consumption by Sector per State')\n",
    "plt.xticks(rotation='vertical')\n",
    "plt.ylim(0,90000000)\n",
    "# plt.yticks(np.arange(0, 81, 10))\n",
    "plt.legend((p1[0], p2[0], p3[0]), ('Residential Sector', 'Commercial Sector', 'Industrial Sector' ))\n",
    "plt.show()"
   ]
  },
  {
   "cell_type": "code",
   "execution_count": null,
   "metadata": {},
   "outputs": [],
   "source": [
    "#Save the figure\n",
    "plt.savefig('Figures/Energy_Consumption_Sector_State.png')"
   ]
  },
  {
   "cell_type": "markdown",
   "metadata": {},
   "source": [
    "# Total Energy Consumption in the US from 2000 - 2015"
   ]
  },
  {
   "cell_type": "code",
   "execution_count": null,
   "metadata": {},
   "outputs": [],
   "source": [
    "#Pull in total energy data files.  Need USA totals, so use the 'uncleaned files'\n",
    "residential_df = pd.read_csv(\"data_output/Residential_Energy_Consumption.csv\")\n",
    "commercial_df = pd.read_csv(\"data_output/Commercial_Energy_Consumption.csv\")\n",
    "industrial_df = pd.read_csv(\"data_output/Industrial_Energy_Consumption.csv\")"
   ]
  },
  {
   "cell_type": "code",
   "execution_count": null,
   "metadata": {},
   "outputs": [],
   "source": [
    "#Set State column as Index\n",
    "residential_df.set_index(\"State\", inplace = True)\n",
    "commercial_df.set_index(\"State\", inplace = True)\n",
    "industrial_df.set_index(\"State\", inplace = True)"
   ]
  },
  {
   "cell_type": "code",
   "execution_count": null,
   "metadata": {},
   "outputs": [],
   "source": [
    "#Get residential energy consumption from residential\n",
    "res_US = residential_df.loc[residential_df.index == \"USA\"]\n",
    "res_US_T = res_US.T\n",
    "res_US_T.sort_index(inplace = True,ascending=True)\n",
    "res_US_T"
   ]
  },
  {
   "cell_type": "code",
   "execution_count": null,
   "metadata": {},
   "outputs": [],
   "source": [
    "#Get commercial energy consumption from USA\n",
    "com_US = commercial_df.loc[commercial_df.index == \"USA\"]\n",
    "com_US_T = com_US.T\n",
    "com_US_T.sort_index(inplace = True,ascending=True)\n",
    "com_US_T"
   ]
  },
  {
   "cell_type": "code",
   "execution_count": null,
   "metadata": {},
   "outputs": [],
   "source": [
    "#Combine the two dataframes\n",
    "combined_df = pd.merge(res_US_T, com_US_T, left_index = True, right_index = True)\n",
    "combined_df"
   ]
  },
  {
   "cell_type": "code",
   "execution_count": null,
   "metadata": {},
   "outputs": [],
   "source": [
    "#Get industrial energy from USA\n",
    "ind_US = industrial_df.loc[industrial_df.index == \"USA\"]\n",
    "ind_US_T = ind_US.T\n",
    "ind_US_T.sort_index(inplace = True,ascending=True)\n",
    "ind_US_T"
   ]
  },
  {
   "cell_type": "code",
   "execution_count": null,
   "metadata": {},
   "outputs": [],
   "source": [
    "#Merge data frames\n",
    "combined_df = pd.merge(combined_df, ind_US_T, left_index = True, right_index = True)\n",
    "final_combined_df= combined_df.rename(columns = {'USA_x': 'Total Residential', \"USA_y\":\"Total Commercial\", \"USA\": \"Total Industrial\"})\n",
    "final_combined_df"
   ]
  },
  {
   "cell_type": "code",
   "execution_count": null,
   "metadata": {},
   "outputs": [],
   "source": [
    "#Sum up the individual sectors to get total consumption\n",
    "final_combined_df[\"Total Consumption\"] = final_combined_df[\"Total Residential\"] + final_combined_df[\"Total Commercial\"] + final_combined_df[\"Total Industrial\"]\n",
    "\n",
    "final_combined_df"
   ]
  },
  {
   "cell_type": "code",
   "execution_count": null,
   "metadata": {},
   "outputs": [],
   "source": [
    "final_combined_df.describe()"
   ]
  },
  {
   "cell_type": "code",
   "execution_count": null,
   "metadata": {},
   "outputs": [],
   "source": [
    "final_combined_df.plot(kind = \"line\", title = \"Total Energy Consumption Across Three Sectors\")\n",
    "plt.xlabel(\"Year\")\n",
    "plt.ylabel(\"Consumption (Billion BTUs)\")\n",
    "plt.savefig(\"images/Fig1.png\")\n",
    "plt.show()"
   ]
  },
  {
   "cell_type": "code",
   "execution_count": null,
   "metadata": {},
   "outputs": [],
   "source": [
    "total_consumption = final_combined_df[\"Total Consumption\"]\n",
    "\n",
    "total_consumption.plot(kind=\"line\", title =\"Total Energy Consumption Across Three Sectors\", color = 'r')\n",
    "plt.xlabel(\"Year\")\n",
    "plt.ylabel(\"Consumption (Billion BTUs)\")\n",
    "plt.savefig(\"images/Fig2.png\")\n",
    "plt.show()"
   ]
  },
  {
   "cell_type": "code",
   "execution_count": null,
   "metadata": {},
   "outputs": [],
   "source": [
    "sectors_combined_df = final_combined_df.drop(columns = ['Total Consumption'])\n",
    "sectors_combined_df.plot(kind=\"line\", title =\"Total Energy Consumption Across Three Sectors\")\n",
    "plt.xlabel(\"Year\")\n",
    "plt.ylabel(\"Consumption (Billion BTUs)\")\n",
    "plt.savefig(\"images/Fig4.png\")\n",
    "plt.show()"
   ]
  },
  {
   "cell_type": "code",
   "execution_count": null,
   "metadata": {},
   "outputs": [],
   "source": [
    "sectors_combined_df[\"Total Residential\"] /= 1000000\n",
    "sectors_combined_df[\"Total Commercial\"] /= 1000000\n",
    "sectors_combined_df[\"Total Industrial\"] /= 1000000\n",
    "sectors_combined_df"
   ]
  },
  {
   "cell_type": "code",
   "execution_count": null,
   "metadata": {},
   "outputs": [],
   "source": [
    "sectors_combined_df.plot(kind = \"area\", title = \"Total Energy Consumption Across Three Sectors\")\n",
    "plt.xlabel(\"Year\")\n",
    "plt.ylabel(\"Consumption (Billion BTUs x10^6)\")\n",
    "plt.savefig(\"images/tot_energy_area.png\")\n",
    "plt.show()"
   ]
  },
  {
   "cell_type": "code",
   "execution_count": null,
   "metadata": {},
   "outputs": [],
   "source": [
    "#Pie chart\n",
    "residential_sum = final_combined_df[\"Total Residential\"].sum()\n",
    "commercial_sum =final_combined_df[\"Total Commercial\"].sum()\n",
    "industrial_sum = final_combined_df[\"Total Industrial\"].sum()\n",
    "\n",
    "# Labels for the sections of our pie chart\n",
    "labels = [\"Residential\", \"Commercial\", \"Industrial\"]\n",
    "\n",
    "# The values of each section of the pie chart\n",
    "sizes = [residential_sum, commercial_sum, industrial_sum]\n",
    "\n",
    "# The colors of each section of the pie chart\n",
    "colors = [\"blue\", \"orange\", \"green\"]\n",
    "\n",
    "plt.pie(sizes, labels=labels, colors=colors,\n",
    "        autopct=\"%1.1f%%\", shadow=True, startangle=140)\n",
    "plt.title(\"Sectors Contributing to Total Energy Consumption in the USA\")\n",
    "plt.axis(\"equal\")\n",
    "plt.savefig(\"images/Fig5.png\")\n",
    "plt.show()"
   ]
  },
  {
   "cell_type": "markdown",
   "metadata": {},
   "source": [
    "# CO2 Emissions"
   ]
  },
  {
   "cell_type": "code",
   "execution_count": null,
   "metadata": {},
   "outputs": [],
   "source": [
    "#Get data from csv files\n",
    "co2_residential_df = pd.read_csv(\"data_output/residential_c02.csv\")\n",
    "co2_commercial_df = pd.read_csv(\"data_output/commercial_c02.csv\")\n",
    "co2_industrial_df = pd.read_csv(\"data_output/industrial_c02.csv\")"
   ]
  },
  {
   "cell_type": "code",
   "execution_count": null,
   "metadata": {},
   "outputs": [],
   "source": [
    "co2_commercial_df.dtypes"
   ]
  },
  {
   "cell_type": "code",
   "execution_count": null,
   "metadata": {},
   "outputs": [],
   "source": [
    "#Set 'States' as index\n",
    "co2_residential_df.set_index(\"States\", inplace = True)\n",
    "co2_commercial_df.set_index(\"States\", inplace = True)\n",
    "co2_industrial_df.set_index(\"States\", inplace = True)\n",
    "\n",
    "#Sum values over each year column\n",
    "sum_co2_residential = co2_residential_df.sum(axis=0)\n",
    "sum_co2_commercial = co2_commercial_df.sum(axis=0)\n",
    "sum_co2_industrial = co2_industrial_df.sum(axis=0)"
   ]
  },
  {
   "cell_type": "code",
   "execution_count": null,
   "metadata": {},
   "outputs": [],
   "source": [
    "years = list(co2_residential_df.columns)\n",
    "combined_em_df = pd.DataFrame({\"Total Residential\": sum_co2_residential,\n",
    "                           \"Total Commercial\": sum_co2_commercial,\n",
    "                           \"Total Industrial\": sum_co2_industrial})\n",
    "combined_em_df[\"Total Emissions\"] = combined_em_df[\"Total Residential\"] + combined_em_df[\"Total Commercial\"] + combined_em_df[\"Total Industrial\"]\n",
    "combined_em_df.dropna(inplace = True)\n",
    "combined_em_df.dtypes"
   ]
  },
  {
   "cell_type": "code",
   "execution_count": null,
   "metadata": {},
   "outputs": [],
   "source": [
    "combined_em_df.plot(kind = \"line\", title = \"Total CO2 Emissions Across Three Sectors\")\n",
    "plt.xlabel(\"Year\")\n",
    "plt.ylabel(\"CO2 Emissions (million metric tons C02)\")\n",
    "plt.savefig(\"images/Fig6.png\")\n",
    "plt.show()"
   ]
  },
  {
   "cell_type": "code",
   "execution_count": null,
   "metadata": {},
   "outputs": [],
   "source": [
    "total_emissions = combined_em_df[\"Total Emissions\"]\n",
    "\n",
    "total_emissions.plot(kind=\"line\", title =\"Total CO2 Emissions\", color = 'r')\n",
    "plt.xlabel(\"Year\")\n",
    "plt.ylabel(\"CO2 Emissions (million metric tons C02)\")\n",
    "plt.savefig(\"images/Fig7.png\")\n",
    "plt.show()"
   ]
  },
  {
   "cell_type": "code",
   "execution_count": null,
   "metadata": {},
   "outputs": [],
   "source": [
    "em_sectors_combined_df = combined_em_df.drop(columns = ['Total Emissions'])\n",
    "em_sectors_combined_df.plot(kind=\"line\", title =\"Total CO2 Emissions Across Three Sectors\")\n",
    "plt.xlabel(\"Year\")\n",
    "plt.ylabel(\"CO2 Emissions (million metric tons C02)\")\n",
    "plt.savefig(\"images/Fig8.png\")\n",
    "plt.show()"
   ]
  },
  {
   "cell_type": "code",
   "execution_count": null,
   "metadata": {},
   "outputs": [],
   "source": [
    "em_sectors_combined_df = combined_em_df.drop(columns = ['Total Emissions'])\n",
    "em_sectors_combined_df.plot(kind=\"area\", title =\"Total CO2 Emissions Across Three Sectors\")\n",
    "plt.xlabel(\"Year\")\n",
    "plt.ylabel(\"CO2 Emissions (million metric tons C02)\")\n",
    "plt.savefig(\"images/Fig9.png\")\n",
    "plt.show()"
   ]
  },
  {
   "cell_type": "code",
   "execution_count": null,
   "metadata": {},
   "outputs": [],
   "source": [
    "#Pie chart\n",
    "em_residential_sum = combined_em_df[\"Total Residential\"].sum()\n",
    "em_commercial_sum =combined_em_df[\"Total Commercial\"].sum()\n",
    "em_industrial_sum = combined_em_df[\"Total Industrial\"].sum()\n",
    "\n",
    "# Labels for the sections of our pie chart\n",
    "labels = [\"Residential\", \"Commercial\", \"Industrial\"]\n",
    "\n",
    "# The values of each section of the pie chart\n",
    "sizes = [em_residential_sum, em_commercial_sum, em_industrial_sum]\n",
    "\n",
    "# The colors of each section of the pie chart\n",
    "colors = [\"blue\", \"orange\", \"green\"]\n",
    "\n",
    "plt.pie(sizes, labels=labels, colors=colors,\n",
    "        autopct=\"%1.1f%%\", shadow=True, startangle=140)\n",
    "plt.title(\"Sectors Contributing to CO2 Emissions in the USA\")\n",
    "plt.axis(\"equal\")\n",
    "plt.savefig(\"images/Fig10.png\")\n",
    "plt.show()"
   ]
  },
  {
   "cell_type": "markdown",
   "metadata": {},
   "source": [
    "# Total Energy Consumption and CO2 emission relationships"
   ]
  },
  {
   "cell_type": "code",
   "execution_count": null,
   "metadata": {},
   "outputs": [],
   "source": [
    "#Create df for scatter plot\n",
    "total_energy_co2_df = pd.DataFrame({\"Total Consumption\": total_consumption, \"Total Emissions\": total_emissions})"
   ]
  },
  {
   "cell_type": "code",
   "execution_count": null,
   "metadata": {},
   "outputs": [],
   "source": [
    "total_energy_co2_df.plot(kind = \"scatter\", x=\"Total Consumption\", y=\"Total Emissions\", title = \"CO2 Emissions by Total Energy Consumption\")\n",
    "plt.show()"
   ]
  },
  {
   "cell_type": "code",
   "execution_count": null,
   "metadata": {},
   "outputs": [],
   "source": [
    "#import lineregress\n",
    "from scipy.stats import linregress"
   ]
  },
  {
   "cell_type": "code",
   "execution_count": null,
   "metadata": {},
   "outputs": [],
   "source": [
    "x_values = total_energy_co2_df['Total Consumption']\n",
    "y_values = total_energy_co2_df['Total Emissions']\n",
    "(slope, intercept, rvalue, pvalue, stderr) = linregress(x_values, y_values)\n",
    "regress_values = x_values * slope + intercept\n",
    "line_eq = \"y = \" + str(round(slope,2)) + \"x + \" + str(round(intercept,2))\n",
    "plt.scatter(x_values,y_values)\n",
    "plt.plot(x_values,regress_values,\"r-\") #red solid line\n",
    "plt.annotate(line_eq,(69729825,1420),fontsize=15,color=\"red\")\n",
    "plt.xlabel('Total Energy Consumption')\n",
    "plt.ylabel('Total CO2 emissions')\n",
    "plt.ylim(1400, 1750)\n",
    "print(f\"The r-squared is: {round(rvalue**2,2)}\")\n",
    "print(f\"The actual slope is: {slope}\")\n",
    "plt.savefig(\"images/Fig11.png\")\n",
    "plt.show()"
   ]
  },
  {
   "cell_type": "code",
   "execution_count": null,
   "metadata": {},
   "outputs": [],
   "source": [
    "x_values = total_energy_co2_df['Total Consumption']/1000000\n",
    "y_values = total_energy_co2_df['Total Emissions']\n",
    "(slope, intercept, rvalue, pvalue, stderr) = linregress(x_values, y_values)\n",
    "regress_values = x_values * slope + intercept\n",
    "line_eq = \"y = \" + str(round(slope,2)) + \"x + \" + str(round(intercept,2))\n",
    "plt.scatter(x_values,y_values)\n",
    "plt.plot(x_values,regress_values,\"r-\") #red solid line\n",
    "plt.annotate(line_eq,(69,1420),fontsize=15,color=\"red\")\n",
    "plt.xlabel('Total Energy Consumption (Billion BTU x 10^6)')\n",
    "plt.ylabel('Total CO2 emissions')\n",
    "rsquare = round(rvalue**2,2)\n",
    "plt.annotate(f\"r-squared = {rsquare}\", (67.5,1700), fontsize=12)\n",
    "#plt.ylim(1400, 1750)\n",
    "print(f\"The r-squared is: {round(rvalue**2,2)}\")\n",
    "\n",
    "plt.savefig(\"images/totenergy_co2_regress.png\")\n",
    "plt.show()"
   ]
  },
  {
   "cell_type": "markdown",
   "metadata": {},
   "source": [
    "# Solar Energy Consumption"
   ]
  },
  {
   "cell_type": "code",
   "execution_count": null,
   "metadata": {},
   "outputs": [],
   "source": [
    "#Pull in solar energy data files.  Need USA totals, so use the 'uncleaned files'\n",
    "residential_solar_df = pd.read_csv(\"data_output/residential_solar_data.csv\")\n",
    "commercial_solar_df = pd.read_csv(\"data_output/commercial_solar_data.csv\")\n",
    "industrial_solar_df = pd.read_csv(\"data_output/industrial_solar_data.csv\")"
   ]
  },
  {
   "cell_type": "code",
   "execution_count": null,
   "metadata": {},
   "outputs": [],
   "source": [
    "#Set State column as Index\n",
    "residential_solar_df.set_index(\"State\", inplace = True)\n",
    "commercial_solar_df.set_index(\"State\", inplace = True)\n",
    "industrial_solar_df.set_index(\"State\", inplace = True)"
   ]
  },
  {
   "cell_type": "code",
   "execution_count": null,
   "metadata": {},
   "outputs": [],
   "source": [
    "res_solar_US = residential_solar_df.loc[residential_solar_df.index == \"USA\"]\n",
    "res_solar_US_T = res_solar_US.T\n",
    "res_solar_US_T.sort_index(inplace = True,ascending=True)\n",
    "res_solar_US_T"
   ]
  },
  {
   "cell_type": "code",
   "execution_count": null,
   "metadata": {},
   "outputs": [],
   "source": [
    "#Get commercial energy consumption from USA\n",
    "com_solar_US = commercial_solar_df.loc[commercial_solar_df.index == \"USA\"]\n",
    "com_solar_US_T = com_solar_US.T\n",
    "com_solar_US_T.sort_index(inplace = True,ascending=True)\n",
    "com_solar_US_T"
   ]
  },
  {
   "cell_type": "code",
   "execution_count": null,
   "metadata": {},
   "outputs": [],
   "source": [
    "#Get industrial energy from USA\n",
    "ind_solar_US = industrial_solar_df.loc[industrial_solar_df.index == \"USA\"]\n",
    "ind_solar_US_T = ind_solar_US.T\n",
    "ind_solar_US_T.sort_index(inplace = True,ascending=True)\n",
    "ind_solar_US_T"
   ]
  },
  {
   "cell_type": "code",
   "execution_count": null,
   "metadata": {},
   "outputs": [],
   "source": [
    "#Combine the two dataframes\n",
    "combined_solar_df = pd.merge(res_solar_US_T, com_solar_US_T, left_index = True, right_index = True)\n",
    "combined_solar_df"
   ]
  },
  {
   "cell_type": "code",
   "execution_count": null,
   "metadata": {},
   "outputs": [],
   "source": [
    "#Merge data frames\n",
    "combined_solar_df = pd.merge(combined_solar_df, ind_solar_US_T, left_index = True, right_index = True)\n",
    "final_combined_solar_df= combined_solar_df.rename(columns = {'USA_x': 'Total Residential', \"USA_y\":\"Total Commercial\", \"USA\": \"Total Industrial\"})\n",
    "final_combined_solar_df.drop([\"2016\",\"2017\",\"2018\"], inplace = True)\n",
    "final_combined_solar_df"
   ]
  },
  {
   "cell_type": "code",
   "execution_count": null,
   "metadata": {},
   "outputs": [],
   "source": [
    "final_combined_solar_df.plot(kind=\"area\", title =\"Total Solar Energy Consumption Across Three Sectors\",)\n",
    "plt.xlabel(\"Year\")\n",
    "plt.ylabel(\"Solar Energy Consumption (Billion BTU)\")\n",
    "plt.savefig(\"images/solar_area.png\", bbox_inches = \"tight\")\n",
    "\n",
    "plt.show()"
   ]
  },
  {
   "cell_type": "code",
   "execution_count": null,
   "metadata": {},
   "outputs": [],
   "source": [
    "final_combined_solar_df.plot(kind=\"line\", title =\"Total Solar Energy Consumption Across Three Sectors\")\n",
    "plt.xlabel(\"Year\")\n",
    "plt.ylabel(\"Solar Energy Consumption (Billion BTU)\")\n",
    "plt.savefig(\"images/Fig13.png\")\n",
    "plt.show()"
   ]
  },
  {
   "cell_type": "code",
   "execution_count": null,
   "metadata": {},
   "outputs": [],
   "source": [
    "#Sum up the individual sectors to get total consumption\n",
    "total_combined_solar_df = final_combined_solar_df.copy()\n",
    "total_combined_solar_df[\"Total Consumption\"] = total_combined_solar_df[\"Total Residential\"] + total_combined_solar_df[\"Total Commercial\"] + total_combined_solar_df[\"Total Industrial\"]\n",
    "total_combined_solar_df"
   ]
  },
  {
   "cell_type": "code",
   "execution_count": null,
   "metadata": {},
   "outputs": [],
   "source": [
    "total_combined_solar_df.plot(kind=\"line\", title =\"Total Solar Energy Consumption Across Three Sectors\")\n",
    "plt.xlabel(\"Year\")\n",
    "plt.ylabel(\"Solar Energy Consumption (Billion BTU)\")\n",
    "plt.savefig(\"images/Fig14.png\")\n",
    "plt.show()"
   ]
  },
  {
   "cell_type": "code",
   "execution_count": null,
   "metadata": {},
   "outputs": [],
   "source": [
    "total_solar_consumption = total_combined_solar_df[\"Total Consumption\"]\n",
    "\n",
    "total_consumption.plot(kind=\"line\", title =\"Total Solar Energy Consumption Across Three Sectors\", color = 'r')\n",
    "plt.xlabel(\"Year\")\n",
    "plt.ylabel(\"Consumption (Billion BTUs)\")\n",
    "plt.savefig(\"images/Fig15.png\")\n",
    "plt.show()"
   ]
  },
  {
   "cell_type": "code",
   "execution_count": null,
   "metadata": {},
   "outputs": [],
   "source": [
    "#Pie chart\n",
    "residential_solar_sum = final_combined_solar_df[\"Total Residential\"].sum()\n",
    "commercial_solar_sum =final_combined_solar_df[\"Total Commercial\"].sum()\n",
    "industrial_solar_sum = final_combined_solar_df[\"Total Industrial\"].sum()\n",
    "\n",
    "# Labels for the sections of our pie chart\n",
    "labels = [\"Residential\", \"Commercial\", \"Industrial\"]\n",
    "\n",
    "# The values of each section of the pie chart\n",
    "sizes = [residential_solar_sum, commercial_solar_sum, industrial_solar_sum]\n",
    "\n",
    "# The colors of each section of the pie chart\n",
    "colors = [\"blue\", \"orange\", \"green\"]\n",
    "\n",
    "plt.pie(sizes, labels=labels, colors=colors,\n",
    "        autopct=\"%1.1f%%\", shadow=True, startangle=140)\n",
    "plt.title(\"Sectors Contributing to Solar Energy Consumption in the USA\")\n",
    "plt.axis(\"equal\")\n",
    "plt.savefig(\"images/Fig16.png\")\n",
    "plt.show()"
   ]
  },
  {
   "cell_type": "markdown",
   "metadata": {},
   "source": [
    "# Solar Energy Consumption Across the 50 States"
   ]
  },
  {
   "cell_type": "code",
   "execution_count": null,
   "metadata": {},
   "outputs": [],
   "source": [
    "st_residential_solar_df = pd.read_csv(\"data_output/cleaned_solar_residential.csv\")\n",
    "st_commercial_solar_df = pd.read_csv(\"data_output/cleaned_solar_commercial.csv\")\n",
    "st_industrial_solar_df = pd.read_csv(\"data_output/cleaned_solar_industrial.csv\")"
   ]
  },
  {
   "cell_type": "code",
   "execution_count": null,
   "metadata": {},
   "outputs": [],
   "source": [
    "#st_residential_solar_df.set_index(\"State\", inplace = True)\n",
    "\n",
    "st_residential_solar_df\n",
    "list(st_residential_solar_df.columns)\n",
    "cleaned_st_residential_solar_df = st_residential_solar_df.drop(columns = [\"Unnamed: 0\"])\n",
    "cleaned_st_residential_solar_df"
   ]
  },
  {
   "cell_type": "code",
   "execution_count": null,
   "metadata": {},
   "outputs": [],
   "source": [
    "#Focus on residential since it makes up ~80% of the consumption\n",
    "df=cleaned_st_residential_solar_df[[\"2000\",\"2001\", \"2002\",\"2003\",\"2004\",\"2005\", \"2006\",\"2007\",\"2008\", \"2009\",\"2010\",\n",
    "                                 \"2011\",\"2012\", \"2013\",\"2014\",\"2015\"]]\n",
    "boxplot = df.boxplot(figsize=[15.0, 6.0])\n",
    "\n",
    "plt.title(\"Distribution of Solar Energy Consumpton per State form 2000-2015\")\n",
    "plt.ylabel(\"Solar Energy Consumption (Billion BTU)\")\n",
    "plt.savefig(\"images/Fig17.png\")\n",
    "plt.show()"
   ]
  },
  {
   "cell_type": "code",
   "execution_count": null,
   "metadata": {},
   "outputs": [],
   "source": [
    "df[\"2015\"].sort_values(ascending = False)\n",
    "#three highest states = CA, FL, AZ\n",
    "#three lowest states = AK, SD, ND"
   ]
  },
  {
   "cell_type": "code",
   "execution_count": null,
   "metadata": {},
   "outputs": [],
   "source": [
    "df[\"2015\"].median()\n",
    "#three states around median are: 43 (UT),9(GA),45(VT)"
   ]
  },
  {
   "cell_type": "markdown",
   "metadata": {},
   "source": [
    "# Analysis of the 3 States with the Highest and Lowest Solar Energy Consumption"
   ]
  },
  {
   "cell_type": "code",
   "execution_count": null,
   "metadata": {},
   "outputs": [],
   "source": [
    "#Pull in total energy data files\n",
    "residential_df = pd.read_csv(\"data_output/cleaned_Residential_Energy.csv\")\n",
    "commercial_df = pd.read_csv(\"data_output/cleaned_Commercial_Energy.csv\")\n",
    "industrial_df = pd.read_csv(\"data_output/cleaned_Industrial_Energy.csv\")"
   ]
  },
  {
   "cell_type": "code",
   "execution_count": null,
   "metadata": {},
   "outputs": [],
   "source": [
    "residential_df.drop(columns=[\"Unnamed: 0\"], inplace = True)\n",
    "commercial_df.drop(columns=[\"Unnamed: 0\"], inplace = True)\n",
    "industrial_df.drop(columns=[\"Unnamed: 0\"], inplace = True)"
   ]
  },
  {
   "cell_type": "code",
   "execution_count": null,
   "metadata": {},
   "outputs": [],
   "source": [
    "#Set State column as Index\n",
    "residential_df.set_index(\"State\", inplace = True)\n",
    "commercial_df.set_index(\"State\", inplace = True)\n",
    "industrial_df.set_index(\"State\", inplace = True)"
   ]
  },
  {
   "cell_type": "code",
   "execution_count": null,
   "metadata": {},
   "outputs": [],
   "source": [
    "#Transpose Data\n",
    "t_residential_df = residential_df.T\n",
    "t_commercial_df = commercial_df.T\n",
    "t_industrial_df = industrial_df.T"
   ]
  },
  {
   "cell_type": "code",
   "execution_count": null,
   "metadata": {},
   "outputs": [],
   "source": [
    "t_residential_df.sort_index(inplace = True,ascending=True)\n",
    "t_commercial_df.sort_index(inplace = True,ascending=True)\n",
    "t_industrial_df.sort_index(inplace = True,ascending=True)"
   ]
  },
  {
   "cell_type": "code",
   "execution_count": null,
   "metadata": {},
   "outputs": [],
   "source": [
    "t_industrial_df"
   ]
  },
  {
   "cell_type": "markdown",
   "metadata": {},
   "source": [
    "#3 highest states = CA, FL, AZ\n",
    "#3 lowest states = AK, SD, ND"
   ]
  },
  {
   "cell_type": "markdown",
   "metadata": {},
   "source": [
    "Analysis of the 3 States with Highest Solar Energy Consumption (CA, FL, AZ)"
   ]
  },
  {
   "cell_type": "code",
   "execution_count": null,
   "metadata": {},
   "outputs": [],
   "source": [
    "CA_res = t_residential_df[\"USA-CA\"]\n",
    "CA_com = t_commercial_df[\"USA-CA\"]\n",
    "CA_ind = t_industrial_df[\"USA-CA\"]"
   ]
  },
  {
   "cell_type": "code",
   "execution_count": null,
   "metadata": {},
   "outputs": [],
   "source": [
    "CA_combined = pd.merge(CA_res, CA_com, left_index = True, right_index = True)\n",
    "CA_final = pd.merge(CA_combined, CA_ind,left_index = True, right_index = True)\n",
    "CA_final.columns = [\"Residential\", \"Commercial\", \"Industrial\"]\n",
    "CA_final[\"Total Consumption\"] = CA_final.sum(axis = 1)\n",
    "CA_final"
   ]
  },
  {
   "cell_type": "code",
   "execution_count": null,
   "metadata": {},
   "outputs": [],
   "source": [
    "co2_residential_df = pd.read_csv(\"Resources/residential_c02.csv\")\n",
    "co2_commercial_df = pd.read_csv(\"Resources/commercial_c02.csv\")\n",
    "co2_industrial_df = pd.read_csv(\"Resources/industrial_c02.csv\")"
   ]
  },
  {
   "cell_type": "code",
   "execution_count": null,
   "metadata": {},
   "outputs": [],
   "source": [
    "#Set 'States' as index\n",
    "co2_residential_df.set_index(\"States\", inplace = True)\n",
    "co2_commercial_df.set_index(\"States\", inplace = True)\n",
    "co2_industrial_df.set_index(\"States\", inplace = True)"
   ]
  },
  {
   "cell_type": "code",
   "execution_count": null,
   "metadata": {},
   "outputs": [],
   "source": [
    "#Transpose dfs\n",
    "t_co2_residential_df = co2_residential_df.T\n",
    "t_co2_commercial_df =co2_commercial_df.T\n",
    "t_co2_industrial_df = co2_industrial_df.T"
   ]
  },
  {
   "cell_type": "code",
   "execution_count": null,
   "metadata": {},
   "outputs": [],
   "source": [
    "CA_co2_res = t_co2_residential_df[\"CA\"]\n",
    "CA_co2_com = t_co2_commercial_df[\"CA\"]\n",
    "CA_co2_ind = t_co2_industrial_df[\"CA\"]"
   ]
  },
  {
   "cell_type": "code",
   "execution_count": null,
   "metadata": {},
   "outputs": [],
   "source": [
    "CA_co2_combined = pd.merge(CA_co2_res, CA_co2_com, left_index = True, right_index = True)\n",
    "CA_co2_final = pd.merge(CA_co2_combined, CA_co2_ind,left_index = True, right_index = True)\n",
    "CA_co2_final.columns = [\"Residential\", \"Commercial\", \"Industrial\"]\n",
    "CA_co2_final[\"Total Emissions\"] = CA_co2_final.sum(axis = 1)\n",
    "CA_co2_final"
   ]
  },
  {
   "cell_type": "code",
   "execution_count": null,
   "metadata": {},
   "outputs": [],
   "source": [
    "CA_consumption = CA_final[\"Total Consumption\"]\n",
    "CA_emissions = CA_co2_final[\"Total Emissions\"]"
   ]
  },
  {
   "cell_type": "code",
   "execution_count": null,
   "metadata": {},
   "outputs": [],
   "source": [
    "def regression(x_values, y_values):\n",
    "    (slope, intercept, rvalue, pvalue, stderr) = linregress(x_values, y_values)\n",
    "    regress_values = x_values * slope + intercept\n",
    "    line_eq = \"y = \" + str(round(slope,2)) + \"x + \" + str(round(intercept,2))\n",
    "    print(f\"The r-squared is: {round(rvalue**2,3)}\")\n",
    "    plt.scatter(x_values,y_values)\n",
    "    plt.plot(x_values,regress_values,\"r-\")\n",
    "    return line_eq, rvalue"
   ]
  },
  {
   "cell_type": "code",
   "execution_count": null,
   "metadata": {},
   "outputs": [],
   "source": [
    "CA_x = CA_final[\"Total Consumption\"]/100000\n",
    "CA=regression(CA_x, CA_co2_final[\"Total Emissions\"])\n",
    "plt.title(\"CO2 emission by Total Energy Consumption in CA\")\n",
    "plt.xlabel('Total Energy Consumption (Billon BTU x 10^6)')\n",
    "plt.ylabel('Total CO2 emissions (million tons CO2)')\n",
    "plt.annotate(CA[0],(48,105.5),fontsize=15,color=\"red\")\n",
    "rsquare = round(CA[1]**2,3)\n",
    "plt.annotate(f\"r-squared = {rsquare}\", (46.6,114), fontsize=12)\n",
    "# plt.savefig(\"images/CA_regress.png\")\n",
    "plt.show()"
   ]
  },
  {
   "cell_type": "code",
   "execution_count": null,
   "metadata": {},
   "outputs": [],
   "source": [
    "CA_x = CA_final[\"Total Consumption\"]/100000\n",
    "CA=regression(CA_x, CA_co2_final[\"Total Emissions\"])\n",
    "plt.title(\"CO2 emission by Total Energy Consumption in CA\")\n",
    "plt.xlabel('Total Energy Consumption')\n",
    "plt.ylabel('Total CO2 emissions')\n",
    "plt.annotate(CA,(48,16),fontsize=15,color=\"red\")\n",
    "rsquare = round(rvalue**2,2)\n",
    "plt.annotate(f\"r-squared = {rsquare}\", (47,114), fontsize=12)\n",
    "#plt.savefig(\"images/Fig19.png\")\n",
    "plt.show()"
   ]
  },
  {
   "cell_type": "code",
   "execution_count": null,
   "metadata": {},
   "outputs": [],
   "source": [
    "x_values = CA_final[\"Total Consumption\"]\n",
    "y_values = CA_co2_final[\"Total Emissions\"]\n",
    "(slope, intercept, rvalue, pvalue, stderr) = linregress(x_values, y_values)\n",
    "regress_values = x_values * slope + intercept\n",
    "line_eq = \"y = \" + str(round(slope,2)) + \"x + \" + str(round(intercept,2))\n",
    "plt.scatter(x_values,y_values)\n",
    "plt.plot(x_values,regress_values,\"r-\") #red solid line\n",
    "plt.annotate(line_eq,(4800000,105),fontsize=15,color=\"red\")\n",
    "plt.title(\"CO2 emission by Total Energy Consumption in CA\")\n",
    "plt.xlabel('Total Energy Consumption')\n",
    "plt.ylabel('Total CO2 emissions')\n",
    "\n",
    "print(f\"The r-squared is: {round(rvalue**2,4)}\")\n",
    "print(f\"The actual slope is: {slope}\")\n",
    "# plt.savefig(\"images/Fig18.png\")\n",
    "plt.show()"
   ]
  },
  {
   "cell_type": "code",
   "execution_count": null,
   "metadata": {},
   "outputs": [],
   "source": [
    "FL_res = t_residential_df[\"USA-FL\"]\n",
    "FL_com = t_commercial_df[\"USA-FL\"]\n",
    "FL_ind = t_industrial_df[\"USA-FL\"]\n",
    "FL_combined = pd.merge(FL_res, FL_com, left_index = True, right_index = True)\n",
    "FL_final = pd.merge(FL_combined, FL_ind,left_index = True, right_index = True)\n",
    "FL_final.columns = [\"Residential\", \"Commercial\", \"Industrial\"]\n",
    "FL_final[\"Total Consumption\"] = FL_final.sum(axis = 1)\n",
    "FL_final"
   ]
  },
  {
   "cell_type": "code",
   "execution_count": null,
   "metadata": {},
   "outputs": [],
   "source": [
    "FL_co2_res = t_co2_residential_df[\"FL\"]\n",
    "FL_co2_com = t_co2_commercial_df[\"FL\"]\n",
    "FL_co2_ind = t_co2_industrial_df[\"FL\"]\n",
    "\n",
    "FL_co2_combined = pd.merge(FL_co2_res, FL_co2_com, left_index = True, right_index = True)\n",
    "FL_co2_final = pd.merge(FL_co2_combined, FL_co2_ind,left_index = True, right_index = True)\n",
    "FL_co2_final.columns = [\"Residential\", \"Commercial\", \"Industrial\"]\n",
    "FL_co2_final[\"Total Emissions\"] = FL_co2_final.sum(axis = 1)\n",
    "FL_co2_final"
   ]
  },
  {
   "cell_type": "code",
   "execution_count": null,
   "metadata": {},
   "outputs": [],
   "source": [
    "FL_x = FL_final[\"Total Consumption\"]/1000000\n",
    "FL=regression(FL_x, FL_co2_final[\"Total Emissions\"])\n",
    "plt.title(\"CO2 emission by Total Energy Consumption in FL\")\n",
    "plt.xlabel('Total Energy Consumption (billion BTU x 10^6)')\n",
    "plt.ylabel('Total CO2 Emissions (million tons CO2)')\n",
    "plt.annotate(FL[0],(2.72,15.5),fontsize=15,color=\"red\")\n",
    "rsquare = round(FL[1]**2,3)\n",
    "plt.annotate(f\"r-squared = {rsquare}\", (2.55,19.5), fontsize=12)\n",
    "# plt.savefig(\"images/FL_reg.png\")\n",
    "plt.show()"
   ]
  },
  {
   "cell_type": "code",
   "execution_count": null,
   "metadata": {},
   "outputs": [],
   "source": [
    "AZ_res = t_residential_df[\"USA-AZ\"]\n",
    "AZ_com = t_commercial_df[\"USA-AZ\"]\n",
    "AZ_ind = t_industrial_df[\"USA-AZ\"]\n",
    "AZ_combined = pd.merge(AZ_res, AZ_com, left_index = True, right_index = True)\n",
    "AZ_final = pd.merge(AZ_combined, AZ_ind,left_index = True, right_index = True)\n",
    "AZ_final.columns = [\"Residential\", \"Commercial\", \"Industrial\"]\n",
    "AZ_final[\"Total Consumption\"] = AZ_final.sum(axis = 1)\n",
    "AZ_final"
   ]
  },
  {
   "cell_type": "code",
   "execution_count": null,
   "metadata": {},
   "outputs": [],
   "source": [
    "AZ_co2_res = t_co2_residential_df[\"AZ\"]\n",
    "AZ_co2_com = t_co2_commercial_df[\"AZ\"]\n",
    "AZ_co2_ind = t_co2_industrial_df[\"AZ\"]\n",
    "\n",
    "AZ_co2_combined = pd.merge(AZ_co2_res, AZ_co2_com, left_index = True, right_index = True)\n",
    "AZ_co2_final = pd.merge(AZ_co2_combined, AZ_co2_ind,left_index = True, right_index = True)\n",
    "AZ_co2_final.columns = [\"Residential\", \"Commercial\", \"Industrial\"]\n",
    "AZ_co2_final[\"Total Emissions\"] = AZ_co2_final.sum(axis = 1)\n",
    "AZ_co2_final"
   ]
  },
  {
   "cell_type": "code",
   "execution_count": null,
   "metadata": {},
   "outputs": [],
   "source": [
    "AZ_x = AZ_final[\"Total Consumption\"]/1000000\n",
    "AZ=regression(AZ_x, AZ_co2_final[\"Total Emissions\"])\n",
    "plt.title(\"CO2 emission by Total Energy Consumption in AZ\")\n",
    "plt.xlabel('Total Energy Consumption (billion BTU x10^6)')\n",
    "plt.ylabel('Total CO2 emissions (million tons CO2)')\n",
    "plt.annotate(AZ[0],(0.9,7.8),fontsize=15,color=\"red\")\n",
    "rsquare = round(AZ[1]**2,3)\n",
    "plt.annotate(f\"r-squared = {rsquare}\", (0.86,9.5), fontsize=12)\n",
    "# plt.savefig(\"images/AZ_reg.png\")\n",
    "plt.show()"
   ]
  },
  {
   "cell_type": "markdown",
   "metadata": {},
   "source": [
    "r-squared USA total = 0.52 CA r-squared = 0.4952 FL r-squared = 0.205 AZ r-squared = 0.46 For the 3 states with the highest solar energy consumption, their r2 is < that for all of USA (although CA and AZ probably aren't significantly different)."
   ]
  },
  {
   "cell_type": "markdown",
   "metadata": {},
   "source": [
    "Analysis of the 3 States with Lowest Solar Energy Consumption (AK, SD, ND)"
   ]
  },
  {
   "cell_type": "code",
   "execution_count": null,
   "metadata": {},
   "outputs": [],
   "source": [
    "AK_res = t_residential_df[\"USA-AK\"]\n",
    "AK_com = t_commercial_df[\"USA-AK\"]\n",
    "AK_ind = t_industrial_df[\"USA-AK\"]\n",
    "AK_combined = pd.merge(AK_res, AK_com, left_index = True, right_index = True)\n",
    "AK_final = pd.merge(AK_combined, AK_ind,left_index = True, right_index = True)\n",
    "AK_final.columns = [\"Residential\", \"Commercial\", \"Industrial\"]\n",
    "AK_final[\"Total Consumption\"] = AK_final.sum(axis = 1)\n",
    "AK_final"
   ]
  },
  {
   "cell_type": "code",
   "execution_count": null,
   "metadata": {},
   "outputs": [],
   "source": [
    "AK_co2_res = t_co2_residential_df[\"AK\"]\n",
    "AK_co2_com = t_co2_commercial_df[\"AK\"]\n",
    "AK_co2_ind = t_co2_industrial_df[\"AK\"]\n",
    "\n",
    "AK_co2_combined = pd.merge(AK_co2_res, AK_co2_com, left_index = True, right_index = True)\n",
    "AK_co2_final = pd.merge(AK_co2_combined, AK_co2_ind,left_index = True, right_index = True)\n",
    "AK_co2_final.columns = [\"Residential\", \"Commercial\", \"Industrial\"]\n",
    "AK_co2_final[\"Total Emissions\"] = AK_co2_final.sum(axis = 1)\n",
    "AK_co2_final"
   ]
  },
  {
   "cell_type": "code",
   "execution_count": null,
   "metadata": {},
   "outputs": [],
   "source": [
    "AK_x = AK_final[\"Total Consumption\"]/1000000\n",
    "AK=regression(AK_x, AK_co2_final[\"Total Emissions\"])\n",
    "plt.title(\"CO2 emission by Total Energy Consumption in AK\")\n",
    "plt.xlabel('Total Energy Consumption (billion BTU x10^6)')\n",
    "plt.ylabel('Total CO2 emissions (million tons CO2)')\n",
    "plt.annotate(AK[0],(0.48,21),fontsize=15,color=\"red\")\n",
    "rsquare = round(AK[1]**2,3)\n",
    "plt.annotate(f\"r-squared = {rsquare}\", (0.44,25), fontsize=12)\n",
    "plt.savefig(\"images/AK_reg.png\")\n",
    "plt.show()"
   ]
  },
  {
   "cell_type": "code",
   "execution_count": null,
   "metadata": {},
   "outputs": [],
   "source": [
    "SD_res = t_residential_df[\"USA-SD\"]\n",
    "SD_com = t_commercial_df[\"USA-SD\"]\n",
    "SD_ind = t_industrial_df[\"USA-SD\"]\n",
    "SD_combined = pd.merge(SD_res, SD_com, left_index = True, right_index = True)\n",
    "SD_final = pd.merge(SD_combined, SD_ind,left_index = True, right_index = True)\n",
    "SD_final.columns = [\"Residential\", \"Commercial\", \"Industrial\"]\n",
    "SD_final[\"Total Consumption\"] = SD_final.sum(axis = 1)\n",
    "SD_final"
   ]
  },
  {
   "cell_type": "code",
   "execution_count": null,
   "metadata": {},
   "outputs": [],
   "source": [
    "SD_co2_res = t_co2_residential_df[\"SD\"]\n",
    "SD_co2_com = t_co2_commercial_df[\"SD\"]\n",
    "SD_co2_ind = t_co2_industrial_df[\"SD\"]\n",
    "\n",
    "SD_co2_combined = pd.merge(SD_co2_res, SD_co2_com, left_index = True, right_index = True)\n",
    "SD_co2_final = pd.merge(SD_co2_combined, SD_co2_ind,left_index = True, right_index = True)\n",
    "SD_co2_final.columns = [\"Residential\", \"Commercial\", \"Industrial\"]\n",
    "SD_co2_final[\"Total Emissions\"] = SD_co2_final.sum(axis = 1)\n",
    "SD_co2_final"
   ]
  },
  {
   "cell_type": "code",
   "execution_count": null,
   "metadata": {},
   "outputs": [],
   "source": [
    "SD_x=SD_final[\"Total Consumption\"]/1000000\n",
    "SD=regression(SD_x, SD_co2_final[\"Total Emissions\"])\n",
    "plt.title(\"CO2 emission by Total Energy Consumption in SD\")\n",
    "plt.xlabel('Total Energy Consumption (billion BTU x10^6)')\n",
    "plt.ylabel('Total CO2 emissions (million tons CO2)')\n",
    "plt.annotate(SD[0],(0.24,3.8),fontsize=15,color=\"red\")\n",
    "rsquare = round(SD[1]**2,3)\n",
    "plt.annotate(f\"r-squared = {rsquare}\", (0.18,5.5), fontsize=12)\n",
    "# plt.savefig(\"images/SD_reg.png\")\n",
    "plt.show()"
   ]
  },
  {
   "cell_type": "code",
   "execution_count": null,
   "metadata": {},
   "outputs": [],
   "source": [
    "ND_res = t_residential_df[\"USA-ND\"]\n",
    "ND_com = t_commercial_df[\"USA-ND\"]\n",
    "ND_ind = t_industrial_df[\"USA-ND\"]\n",
    "ND_combined = pd.merge(ND_res, ND_com, left_index = True, right_index = True)\n",
    "ND_final = pd.merge(ND_combined, ND_ind,left_index = True, right_index = True)\n",
    "ND_final.columns = [\"Residential\", \"Commercial\", \"Industrial\"]\n",
    "ND_final[\"Total Consumption\"] = ND_final.sum(axis = 1)\n",
    "ND_final"
   ]
  },
  {
   "cell_type": "code",
   "execution_count": null,
   "metadata": {},
   "outputs": [],
   "source": [
    "ND_co2_res = t_co2_residential_df[\"ND\"]\n",
    "ND_co2_com = t_co2_commercial_df[\"ND\"]\n",
    "ND_co2_ind = t_co2_industrial_df[\"ND\"]\n",
    "\n",
    "ND_co2_combined = pd.merge(ND_co2_res, ND_co2_com, left_index = True, right_index = True)\n",
    "ND_co2_final = pd.merge(ND_co2_combined, ND_co2_ind,left_index = True, right_index = True)\n",
    "ND_co2_final.columns = [\"Residential\", \"Commercial\", \"Industrial\"]\n",
    "ND_co2_final[\"Total Emissions\"] = ND_co2_final.sum(axis = 1)\n",
    "ND_co2_final"
   ]
  },
  {
   "cell_type": "code",
   "execution_count": null,
   "metadata": {},
   "outputs": [],
   "source": [
    "ND_x = ND_final[\"Total Consumption\"]/1000000\n",
    "ND=regression(ND_x, ND_co2_final[\"Total Emissions\"])\n",
    "plt.title(\"CO2 emission by Total Energy Consumption in ND\")\n",
    "plt.xlabel('Total Energy Consumption (billion BTU x10^6)')\n",
    "plt.ylabel('Total CO2 emissions (million tons CO2)')\n",
    "plt.annotate(ND[0],(0.40,14),fontsize=15,color=\"red\")\n",
    "rsquare = round(ND[1]**2,3)\n",
    "plt.annotate(f\"r-squared = {rsquare}\", (0.31,19), fontsize=12)                  \n",
    "plt.savefig(\"images/ND_reg.png\")\n",
    "plt.show()"
   ]
  },
  {
   "cell_type": "markdown",
   "metadata": {},
   "source": [
    "r-squared for US = 0.52 r-squared for AK = 0.98 r-squared for SD = 0.789 r-squared for ND = 0.96 For the three states with the lowest solar energy consumption, the r-squared for CO2 emissions by Total Energy Consumption are very high (0.79 -0.98), suggesting that the regression models for these states account for the majority of the variance in the data observed."
   ]
  },
  {
   "cell_type": "markdown",
   "metadata": {},
   "source": [
    "# Analysis of the 3 States with Median Solar Energy Consumption (GA, UT, VT)"
   ]
  },
  {
   "cell_type": "code",
   "execution_count": null,
   "metadata": {},
   "outputs": [],
   "source": [
    "GA_res = t_residential_df[\"USA-GA\"]\n",
    "GA_com = t_commercial_df[\"USA-GA\"]\n",
    "GA_ind = t_industrial_df[\"USA-GA\"]\n",
    "GA_combined = pd.merge(GA_res, GA_com, left_index = True, right_index = True)\n",
    "GA_final = pd.merge(GA_combined, GA_ind,left_index = True, right_index = True)\n",
    "GA_final.columns = [\"Residential\", \"Commercial\", \"Industrial\"]\n",
    "GA_final[\"Total Consumption\"] = GA_final.sum(axis = 1)\n",
    "GA_final"
   ]
  },
  {
   "cell_type": "code",
   "execution_count": null,
   "metadata": {},
   "outputs": [],
   "source": [
    "GA_co2_res = t_co2_residential_df[\"GA\"]\n",
    "GA_co2_com = t_co2_commercial_df[\"GA\"]\n",
    "GA_co2_ind = t_co2_industrial_df[\"GA\"]\n",
    "\n",
    "GA_co2_combined = pd.merge(GA_co2_res, GA_co2_com, left_index = True, right_index = True)\n",
    "GA_co2_final = pd.merge(GA_co2_combined, GA_co2_ind,left_index = True, right_index = True)\n",
    "GA_co2_final.columns = [\"Residential\", \"Commercial\", \"Industrial\"]\n",
    "GA_co2_final[\"Total Emissions\"] = GA_co2_final.sum(axis = 1)\n",
    "GA_co2_final"
   ]
  },
  {
   "cell_type": "code",
   "execution_count": null,
   "metadata": {},
   "outputs": [],
   "source": [
    "GA=regression(GA_final[\"Total Consumption\"], GA_co2_final[\"Total Emissions\"])\n",
    "plt.title(\"CO2 emission by Total Energy Consumption in GA\")\n",
    "plt.xlabel('Total Energy Consumption')\n",
    "plt.ylabel('Total CO2 emissions')\n",
    "plt.annotate(GA,(2020000,22),fontsize=15,color=\"red\")\n",
    "plt.savefig(\"images/Fig24.png\")\n",
    "plt.show()"
   ]
  },
  {
   "cell_type": "code",
   "execution_count": null,
   "metadata": {},
   "outputs": [],
   "source": [
    "UT_res = t_residential_df[\"USA-UT\"]\n",
    "UT_com = t_commercial_df[\"USA-UT\"]\n",
    "UT_ind = t_industrial_df[\"USA-UT\"]\n",
    "UT_combined = pd.merge(UT_res, UT_com, left_index = True, right_index = True)\n",
    "UT_final = pd.merge(UT_combined, UT_ind,left_index = True, right_index = True)\n",
    "UT_final.columns = [\"Residential\", \"Commercial\", \"Industrial\"]\n",
    "UT_final[\"Total Consumption\"] = UT_final.sum(axis = 1)\n",
    "UT_final"
   ]
  },
  {
   "cell_type": "code",
   "execution_count": null,
   "metadata": {},
   "outputs": [],
   "source": [
    "UT_co2_res = t_co2_residential_df[\"UT\"]\n",
    "UT_co2_com = t_co2_commercial_df[\"UT\"]\n",
    "UT_co2_ind = t_co2_industrial_df[\"UT\"]\n",
    "\n",
    "UT_co2_combined = pd.merge(UT_co2_res, UT_co2_com, left_index = True, right_index = True)\n",
    "UT_co2_final = pd.merge(UT_co2_combined, UT_co2_ind,left_index = True, right_index = True)\n",
    "UT_co2_final.columns = [\"Residential\", \"Commercial\", \"Industrial\"]\n",
    "UT_co2_final[\"Total Emissions\"] = UT_co2_final.sum(axis = 1)\n",
    "UT_co2_final"
   ]
  },
  {
   "cell_type": "code",
   "execution_count": null,
   "metadata": {},
   "outputs": [],
   "source": [
    "UT=regression(UT_final[\"Total Consumption\"], UT_co2_final[\"Total Emissions\"])\n",
    "plt.title(\"CO2 emission by Total Energy Consumption in UT\")\n",
    "plt.xlabel('Total Energy Consumption')\n",
    "plt.ylabel('Total CO2 emissions')\n",
    "plt.annotate(UT,(530000,11.5),fontsize=15,color=\"red\")\n",
    "plt.savefig(\"images/Fig25.png\")\n",
    "plt.show()"
   ]
  },
  {
   "cell_type": "code",
   "execution_count": null,
   "metadata": {},
   "outputs": [],
   "source": [
    "VT_res = t_residential_df[\"USA-VT\"]\n",
    "VT_com = t_commercial_df[\"USA-VT\"]\n",
    "VT_ind = t_industrial_df[\"USA-VT\"]\n",
    "VT_combined = pd.merge(VT_res, VT_com, left_index = True, right_index = True)\n",
    "VT_final = pd.merge(VT_combined, VT_ind,left_index = True, right_index = True)\n",
    "VT_final.columns = [\"Residential\", \"Commercial\", \"Industrial\"]\n",
    "VT_final[\"Total Consumption\"] = VT_final.sum(axis = 1)\n",
    "VT_final"
   ]
  },
  {
   "cell_type": "code",
   "execution_count": null,
   "metadata": {},
   "outputs": [],
   "source": [
    "VT_co2_res = t_co2_residential_df[\"VT\"]\n",
    "VT_co2_com = t_co2_commercial_df[\"VT\"]\n",
    "VT_co2_ind = t_co2_industrial_df[\"VT\"]\n",
    "\n",
    "VT_co2_combined = pd.merge(VT_co2_res, VT_co2_com, left_index = True, right_index = True)\n",
    "VT_co2_final = pd.merge(VT_co2_combined, VT_co2_ind,left_index = True, right_index = True)\n",
    "VT_co2_final.columns = [\"Residential\", \"Commercial\", \"Industrial\"]\n",
    "VT_co2_final[\"Total Emissions\"] = VT_co2_final.sum(axis = 1)\n",
    "VT_co2_final"
   ]
  },
  {
   "cell_type": "code",
   "execution_count": null,
   "metadata": {},
   "outputs": [],
   "source": [
    "VT=regression(VT_final[\"Total Consumption\"], VT_co2_final[\"Total Emissions\"])\n",
    "plt.title(\"CO2 emission by Total Energy Consumption in VT\")\n",
    "plt.xlabel('Total Energy Consumption')\n",
    "plt.ylabel('Total CO2 emissions')\n",
    "plt.annotate(VT,(100000,2.2),fontsize=15,color=\"red\")\n",
    "plt.savefig(\"images/Fig26.png\")\n",
    "plt.show()"
   ]
  },
  {
   "cell_type": "markdown",
   "metadata": {},
   "source": [
    "Taken together, the regression models suggest that in states with the lowest solar energy consumption, the variability in CO2 emissions is mostly accounted for by the total energy consumption in that state. In states with the hightest solar energy consumption, the variablity in CO2 emissions is inadequately accounted for by total energy consumption."
   ]
  },
  {
   "cell_type": "code",
   "execution_count": null,
   "metadata": {},
   "outputs": [],
   "source": [
    "VT_final"
   ]
  },
  {
   "cell_type": "code",
   "execution_count": null,
   "metadata": {},
   "outputs": [],
   "source": [
    "VT_final[\"Res %\"] = VT_final[\"Total Consumption\"]/VT_final[\"Residential\"]\n",
    "VT_final"
   ]
  },
  {
   "cell_type": "markdown",
   "metadata": {},
   "source": [
    "# Further CO2 Analysis"
   ]
  },
  {
   "cell_type": "code",
   "execution_count": null,
   "metadata": {},
   "outputs": [],
   "source": [
    "#Total Carbon Dioxide Emissions, all fuels, in millions metric tons\n",
    "commercial = pd.read_csv('c02_df_data/commercial_c02.csv')\n",
    "industrial = pd.read_csv('c02_df_data/industrial_c02.csv')\n",
    "residential = pd.read_csv('c02_df_data/residential_c02.csv')"
   ]
  },
  {
   "cell_type": "code",
   "execution_count": null,
   "metadata": {},
   "outputs": [],
   "source": [
    "years = [2000,2001,2002,2003,2004,2005,2006,2007,2008,2009,2010,2011,2012,2013,2014,2015]\n",
    "compare_dict = {'Commercial': [commercial['2000'].sum(),commercial['2001'].sum(),commercial['2002'].sum(),\n",
    "                       commercial['2003'].sum(),commercial['2004'].sum(),commercial['2005'].sum(),\n",
    "                       commercial['2004'].sum(),commercial['2007'].sum(),commercial['2008'].sum(),\n",
    "                       commercial['2009'].sum(),commercial['2010'].sum(),commercial['2011'].sum(),\n",
    "                       commercial['2012'].sum(),commercial['2013'].sum(),commercial['2014'].sum(),\n",
    "                        commercial['2015'].sum()],\n",
    "       'Industrial' : [industrial['2000'].sum(),industrial['2001'].sum(),industrial['2002'].sum(),\n",
    "                       industrial['2003'].sum(),industrial['2004'].sum(),industrial['2005'].sum(),\n",
    "                       industrial['2004'].sum(),industrial['2007'].sum(),industrial['2008'].sum(),\n",
    "                       industrial['2009'].sum(),industrial['2010'].sum(),industrial['2011'].sum(),\n",
    "                       industrial['2012'].sum(),industrial['2013'].sum(),industrial['2014'].sum(),\n",
    "                          industrial['2015'].sum()],\n",
    "       'Residential' :[residential['2000'].sum(),residential['2001'].sum(),residential['2002'].sum(),\n",
    "                       residential['2003'].sum(),residential['2004'].sum(),residential['2005'].sum(),\n",
    "                       residential['2004'].sum(),residential['2007'].sum(),residential['2008'].sum(),\n",
    "                       residential['2009'].sum(),residential['2010'].sum(),residential['2011'].sum(),\n",
    "                       residential['2012'].sum(),residential['2013'].sum(),residential['2014'].sum(),\n",
    "                          residential['2015'].sum()],\n",
    "               'Year': years}\n",
    "\n",
    "all_df = pd.DataFrame(data = compare_dict).reset_index()\n",
    "all_df['Total'] = all_df['Commercial'] + all_df['Industrial'] + all_df['Residential']\n",
    "all_df"
   ]
  },
  {
   "cell_type": "code",
   "execution_count": null,
   "metadata": {},
   "outputs": [],
   "source": [
    "#plt.plot(all_df['Year'],all_df['Commercial'])\n",
    "#plt.plot(all_df['Year'],all_df['Industrial'], color = 'r')\n",
    "plt.plot(all_df['Year'],all_df['Total'], color = 'b')\n",
    "plt.ylim(1000,2000)\n",
    "plt.show()"
   ]
  },
  {
   "cell_type": "code",
   "execution_count": null,
   "metadata": {},
   "outputs": [],
   "source": [
    "commercial"
   ]
  },
  {
   "cell_type": "code",
   "execution_count": null,
   "metadata": {},
   "outputs": [],
   "source": [
    "residential"
   ]
  }
 ],
 "metadata": {
  "kernelspec": {
   "display_name": "Python [conda env:PythonData] *",
   "language": "python",
   "name": "conda-env-PythonData-py"
  },
  "language_info": {
   "codemirror_mode": {
    "name": "ipython",
    "version": 3
   },
   "file_extension": ".py",
   "mimetype": "text/x-python",
   "name": "python",
   "nbconvert_exporter": "python",
   "pygments_lexer": "ipython3",
   "version": "3.6.10"
  }
 },
 "nbformat": 4,
 "nbformat_minor": 4
}
