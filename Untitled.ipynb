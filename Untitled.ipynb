{
 "cells": [
  {
   "cell_type": "code",
   "execution_count": 1,
   "metadata": {},
   "outputs": [],
   "source": [
    "import matplotlib.pyplot as plt\n",
    "import pandas as pd\n",
    "import numpy as np\n",
    "import requests\n",
    "import json"
   ]
  },
  {
   "cell_type": "code",
   "execution_count": 6,
   "metadata": {},
   "outputs": [
    {
     "data": {
      "text/plain": [
       "{'request': {'command': 'series', 'series_id': 'EMISS.CO2-TOTV-CC-TO-AL.A'},\n",
       " 'series': [{'series_id': 'EMISS.CO2-TOTV-CC-TO-AL.A',\n",
       "   'name': 'Commercial carbon dioxide emissions, all fuels, Alabama',\n",
       "   'units': 'million metric tons CO2',\n",
       "   'f': 'A',\n",
       "   'unitsshort': 'mmt CO2',\n",
       "   'description': 'See http://www.eia.gov/environment/emissions/state/analysis/ for technical notes and documentation.',\n",
       "   'copyright': 'None',\n",
       "   'source': 'EIA, U.S. Energy Information Administration',\n",
       "   'iso3166': 'USA-AL',\n",
       "   'geography': 'USA-AL',\n",
       "   'start': '1980',\n",
       "   'end': '2017',\n",
       "   'updated': '2019-10-30T13:20:11-0400',\n",
       "   'data': [['2017', 2.102163],\n",
       "    ['2016', 2.217912],\n",
       "    ['2015', 2.163699],\n",
       "    ['2014', 1.929205],\n",
       "    ['2013', 1.829904],\n",
       "    ['2012', 1.777187],\n",
       "    ['2011', 2.045463],\n",
       "    ['2010', 2.110849],\n",
       "    ['2009', 1.889612],\n",
       "    ['2008', 1.998994],\n",
       "    ['2007', 1.981282],\n",
       "    ['2006', 2.215464],\n",
       "    ['2005', 1.844443],\n",
       "    ['2004', 2.154941],\n",
       "    ['2003', 2.101461],\n",
       "    ['2002', 1.992439],\n",
       "    ['2001', 2.163482],\n",
       "    ['2000', 2.250348],\n",
       "    ['1999', 2.189238],\n",
       "    ['1998', 1.904202],\n",
       "    ['1997', 2.419957],\n",
       "    ['1996', 2.163154],\n",
       "    ['1995', 1.963574],\n",
       "    ['1994', 2.054368],\n",
       "    ['1993', 2.050676],\n",
       "    ['1992', 2.102996],\n",
       "    ['1991', 2.004702],\n",
       "    ['1990', 2.443577],\n",
       "    ['1989', 2.516733],\n",
       "    ['1988', 2.638413],\n",
       "    ['1987', 2.298164],\n",
       "    ['1986', 2.483847],\n",
       "    ['1985', 2.546604],\n",
       "    ['1984', 2.349823],\n",
       "    ['1983', 2.484154],\n",
       "    ['1982', 2.26889],\n",
       "    ['1981', 2.396127],\n",
       "    ['1980', 2.61394]]}]}"
      ]
     },
     "execution_count": 6,
     "metadata": {},
     "output_type": "execute_result"
    }
   ],
   "source": [
    "key = '70c09fd04588ce5a3c8846a236c15938'\n",
    "\n",
    "commercialc02 = 'http://api.eia.gov/series/?api_key=70c09fd04588ce5a3c8846a236c15938&series_id=EMISS.CO2-TOTV-CC-TO-{state}.A'.format(key)\n",
    "industrialc02 = 'http://api.eia.gov/series/?api_key=70c09fd04588ce5a3c8846a236c15938&series_id=EMISS.CO2-TOTV-IC-TO-{state}.A'\n",
    "residentialc02 = 'http://api.eia.gov/series/?api_key=70c09fd04588ce5a3c8846a236c15938&series_id=EMISS.CO2-TOTV-RC-TO-[state].A'\n",
    "\n",
    "request = requests.get(url).json()\n",
    "request"
   ]
  },
  {
   "cell_type": "code",
   "execution_count": 34,
   "metadata": {},
   "outputs": [
    {
     "name": "stdout",
     "output_type": "stream",
     "text": [
      "['2017', 2.102163]\n",
      "['2017', 2.045345]\n",
      "['2017', 2.903018]\n",
      "['2017', 3.034618]\n"
     ]
    }
   ],
   "source": [
    "states = [\"AL\", \"AK\", \"AZ\", \"AR\", \"CA\", \"CO\", \"CT\", \"DC\", \"DE\", \"FL\", \"GA\", \n",
    "          \"HI\", \"ID\", \"IL\", \"IN\", \"IA\", \"KS\", \"KY\", \"LA\", \"ME\", \"MD\", \n",
    "          \"MA\", \"MI\", \"MN\", \"MS\", \"MO\", \"MT\", \"NE\", \"NV\", \"NH\", \"NJ\", \n",
    "          \"NM\", \"NY\", \"NC\", \"ND\", \"OH\", \"OK\", \"OR\", \"PA\", \"RI\", \"SC\", \n",
    "          \"SD\", \"TN\", \"TX\", \"UT\", \"VT\", \"VA\", \"WA\", \"WV\", \"WI\", \"WY\"]\n",
    "\n",
    "count = 0\n",
    "for state_name in states:\n",
    "    \n",
    "    commercialc02 = f'http://api.eia.gov/series/?api_key=70c09fd04588ce5a3c8846a236c15938&series_id=EMISS.CO2-TOTV-CC-TO-{state_name}.A'\n",
    "    industrialc02 = f'http://api.eia.gov/series/?api_key=70c09fd04588ce5a3c8846a236c15938&series_id=EMISS.CO2-TOTV-IC-TO-{state_name}.A'\n",
    "    residentialc02 = f'http://api.eia.gov/series/?api_key=70c09fd04588ce5a3c8846a236c15938&series_id=EMISS.CO2-TOTV-RC-TO-{state_name}.A'\n",
    "    data = requests.get(commercialc02).json()\n",
    "    print(data['series'][0]['data'][0])\n",
    "    count += 1\n",
    "    if count > 3:\n",
    "        break\n",
    "    else:\n",
    "        pass\n",
    "    \n"
   ]
  },
  {
   "cell_type": "code",
   "execution_count": null,
   "metadata": {},
   "outputs": [],
   "source": []
  }
 ],
 "metadata": {
  "kernelspec": {
   "display_name": "Python 3",
   "language": "python",
   "name": "python3"
  },
  "language_info": {
   "codemirror_mode": {
    "name": "ipython",
    "version": 3
   },
   "file_extension": ".py",
   "mimetype": "text/x-python",
   "name": "python",
   "nbconvert_exporter": "python",
   "pygments_lexer": "ipython3",
   "version": "3.7.6"
  }
 },
 "nbformat": 4,
 "nbformat_minor": 4
}
