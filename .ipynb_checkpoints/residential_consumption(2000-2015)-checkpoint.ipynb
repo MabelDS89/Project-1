{
 "cells": [
  {
   "cell_type": "code",
   "execution_count": null,
   "metadata": {},
   "outputs": [],
   "source": [
    "#Set dependencies\n",
    "import pandas as pd\n",
    "import requests\n",
    "import json\n",
    "import matplotlib.pyplot as plt\n",
    "import numpy as np\n",
    "import time"
   ]
  },
  {
   "cell_type": "code",
   "execution_count": null,
   "metadata": {},
   "outputs": [],
   "source": [
    "#Provide value for EIA API Key\n",
    "api_key = \"6137f2c566df03b61653f96b7dc5d69d\"\n",
    "\n",
    "#Base URL for EIA Residential Consumption of Energy\n",
    "base_url = \"http://api.eia.gov/category/?api_key=YOUR_API_KEY_HERE&category_id=40209\"\n",
    "\n",
    "query_url = base_url\n",
    "residential_consumption = requests.get(query_url).json()"
   ]
  }
 ],
 "metadata": {
  "kernelspec": {
   "display_name": "Python [conda env:PythonData] *",
   "language": "python",
   "name": "conda-env-PythonData-py"
  },
  "language_info": {
   "codemirror_mode": {
    "name": "ipython",
    "version": 3
   },
   "file_extension": ".py",
   "mimetype": "text/x-python",
   "name": "python",
   "nbconvert_exporter": "python",
   "pygments_lexer": "ipython3",
   "version": "3.6.10"
  }
 },
 "nbformat": 4,
 "nbformat_minor": 4
}
