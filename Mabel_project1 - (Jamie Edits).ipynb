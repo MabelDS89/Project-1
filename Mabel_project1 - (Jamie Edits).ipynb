{
 "cells": [
  {
   "cell_type": "code",
   "execution_count": null,
   "metadata": {},
   "outputs": [],
   "source": [
    "import matplotlib.pyplot as plt\n",
    "import pandas as pd\n",
    "import numpy as np\n",
    "import requests\n",
    "import time\n",
    "from config import api_key"
   ]
  },
  {
   "cell_type": "code",
   "execution_count": null,
   "metadata": {},
   "outputs": [],
   "source": [
    "series_stateids =[ \"SEDS.TERCB.AL.A\",\"SEDS.TERCB.AK.A\", \"SEDS.TERCB.AZ.A\", \"SEDS.TERCB.AR.A\", \"SEDS.TERCB.CA.A\", \"SEDS.TERCB.CO.A\", \"SEDS.TERCB.CT.A\", \"SEDS.TERCB.DE.A\", \"SEDS.TERCB.FL.A\", \"SEDS.TERCB.GA.A\", \"SEDS.TERCB.HI.A\", \"SEDS.TERCB.ID.A\", \"SEDS.TERCB.IL.A\", \"SEDS.TERCB.IN.A\", \"SEDS.TERCB.IA.A\", \"SEDS.TERCB.KS.A\", \"SEDS.TERCB.KY.A\", \"SEDS.TERCB.LA.A\", \"SEDS.TERCB.ME.A\", \"SEDS.TERCB.MD.A\", \"SEDS.TERCB.MA.A\", \"SEDS.TERCB.MI.A\", \"SEDS.TERCB.MN.A\", \"SEDS.TERCB.MS.A\", \"SEDS.TERCB.MO.A\", \"SEDS.TERCB.MT.A\", \"SEDS.TERCB.NE.A\", \"SEDS.TERCB.NV.A\", \"SEDS.TERCB.NH.A\", \"SEDS.TERCB.NJ.A\", \"SEDS.TERCB.NM.A\", \"SEDS.TERCB.NY.A\", \"SEDS.TERCB.NC.A\", \"SEDS.TERCB.ND.A\", \"SEDS.TERCB.OH.A\", \"SEDS.TERCB.OK.A\", \"SEDS.TERCB.OR.A\", \"SEDS.TERCB.PA.A\", \"SEDS.TERCB.RI.A\", \"SEDS.TERCB.SC.A\", \"SEDS.TERCB.SD.A\", \"SEDS.TERCB.TN.A\", \"SEDS.TERCB.TX.A\", \"SEDS.TERCB.UT.A\", \"SEDS.TERCB.VT.A\", \"SEDS.TERCB.VA.A\", \"SEDS.TERCB.WA.A\", \"SEDS.TERCB.WV.A\", \"SEDS.TERCB.WI.A\", \"SEDS.TERCB.WY.A\"]"
   ]
  },
  {
   "cell_type": "code",
   "execution_count": null,
   "metadata": {},
   "outputs": [],
   "source": [
    "for row in series_stateids:\n",
    "    url = \"http://api.eia.gov/series/?\"\n",
    "    #api_key = '6137f2c566df03b61653f96b7dc5d69d'\n",
    "    query_url = url + \"api_key=\" + api_key + \"&series_id=\"\n",
    "#     year=[]\n",
    "#     energy_consumed = []\n",
    "    response = requests.get(query_url + row).json()['series'][0]['data'][3:19]\n",
    "    name_response = requests.get(query_url + row).json()['series'][0]['geography']\n",
    "    print(response)\n",
    "    print(name_response)\n",
    "#     results = response['series'][0]['data']\n",
    "#     results[0][0]\n",
    "# #     year_list=[]\n",
    "    "
   ]
  },
  {
   "cell_type": "code",
   "execution_count": null,
   "metadata": {},
   "outputs": [],
   "source": [
    "url = \"http://api.eia.gov/series/?\"\n",
    "series_id = \"SEDS.TERCB.AL.A\"\n",
    "api_key = '6137f2c566df03b61653f96b7dc5d69d'\n",
    "year=[]\n",
    "energy_consumed = []\n",
    "# query_url = url + \"appid=\" + api_key + \"&q=\" + city\n",
    "query_url = url + \"api_key=\" + api_key +  \"&series_id=\"+ series_id\n",
    "response = requests.get(query_url).json()\n",
    "results = response['series'][0]['data']\n",
    "results[0][0]\n",
    "year_list=[]\n",
    "\n",
    "for x in range(len(results)):\n",
    "   year_list.append(results[x][0])\n",
    "print(year_list)\n",
    "\n",
    "len(year_list) "
   ]
  },
  {
   "cell_type": "code",
   "execution_count": null,
   "metadata": {},
   "outputs": [],
   "source": [
    "energy_list=[]\n",
    "for x in range(len(results)):\n",
    "   energy_list.append(results[x][1])\n",
    "print(energy_list)\n",
    "len(energy_list)"
   ]
  },
  {
   "cell_type": "code",
   "execution_count": null,
   "metadata": {},
   "outputs": [],
   "source": [
    "df = pd.DataFrame({\"Year\":year_list, \"Energy\":energy_list})\n",
    "df"
   ]
  },
  {
   "cell_type": "code",
   "execution_count": null,
   "metadata": {},
   "outputs": [],
   "source": []
  }
 ],
 "metadata": {
  "kernelspec": {
   "display_name": "Python [conda env:PythonData] *",
   "language": "python",
   "name": "conda-env-PythonData-py"
  },
  "language_info": {
   "codemirror_mode": {
    "name": "ipython",
    "version": 3
   },
   "file_extension": ".py",
   "mimetype": "text/x-python",
   "name": "python",
   "nbconvert_exporter": "python",
   "pygments_lexer": "ipython3",
   "version": "3.7.6"
  }
 },
 "nbformat": 4,
 "nbformat_minor": 2
}
