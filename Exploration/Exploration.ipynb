{
 "cells": [
  {
   "cell_type": "markdown",
   "metadata": {},
   "source": [
    "# Data Cleaning"
   ]
  },
  {
   "cell_type": "markdown",
   "metadata": {},
   "source": [
    "Our data was quite clean from the start. Our data exploration and cleaning process mainly consisted of removing years of data as well as Washington D.C. and the totals for USA when present in the energy consumption files."
   ]
  },
  {
   "cell_type": "markdown",
   "metadata": {},
   "source": [
    "# Initial Data File Cleaning"
   ]
  },
  {
   "cell_type": "code",
   "execution_count": 1,
   "metadata": {},
   "outputs": [],
   "source": [
    "#Set dependencies\n",
    "import pandas as pd\n",
    "import numpy as np\n",
    "import matplotlib.pyplot as plt\n",
    "import requests"
   ]
  },
  {
   "cell_type": "code",
   "execution_count": 2,
   "metadata": {},
   "outputs": [
    {
     "ename": "FileNotFoundError",
     "evalue": "[Errno 2] File data_output/residential_solar_data.csv does not exist: 'data_output/residential_solar_data.csv'",
     "output_type": "error",
     "traceback": [
      "\u001b[1;31m---------------------------------------------------------------------------\u001b[0m",
      "\u001b[1;31mFileNotFoundError\u001b[0m                         Traceback (most recent call last)",
      "\u001b[1;32m<ipython-input-2-a0a055b0062e>\u001b[0m in \u001b[0;36m<module>\u001b[1;34m\u001b[0m\n\u001b[1;32m----> 1\u001b[1;33m \u001b[0msol_residential_df\u001b[0m \u001b[1;33m=\u001b[0m \u001b[0mpd\u001b[0m\u001b[1;33m.\u001b[0m\u001b[0mread_csv\u001b[0m\u001b[1;33m(\u001b[0m\u001b[1;34m\"data_output/residential_solar_data.csv\"\u001b[0m\u001b[1;33m)\u001b[0m\u001b[1;33m\u001b[0m\u001b[1;33m\u001b[0m\u001b[0m\n\u001b[0m\u001b[0;32m      2\u001b[0m \u001b[0msol_commercial_df\u001b[0m \u001b[1;33m=\u001b[0m \u001b[0mpd\u001b[0m\u001b[1;33m.\u001b[0m\u001b[0mread_csv\u001b[0m\u001b[1;33m(\u001b[0m\u001b[1;34m\"data_output/commercial_solar_data.csv\"\u001b[0m\u001b[1;33m)\u001b[0m\u001b[1;33m\u001b[0m\u001b[1;33m\u001b[0m\u001b[0m\n\u001b[0;32m      3\u001b[0m \u001b[0msol_industrial_df\u001b[0m \u001b[1;33m=\u001b[0m \u001b[0mpd\u001b[0m\u001b[1;33m.\u001b[0m\u001b[0mread_csv\u001b[0m\u001b[1;33m(\u001b[0m\u001b[1;34m\"data_output/industrial_solar_data.csv\"\u001b[0m\u001b[1;33m)\u001b[0m\u001b[1;33m\u001b[0m\u001b[1;33m\u001b[0m\u001b[0m\n\u001b[0;32m      4\u001b[0m \u001b[0mco2_residential_df\u001b[0m\u001b[1;33m=\u001b[0m \u001b[0mpd\u001b[0m\u001b[1;33m.\u001b[0m\u001b[0mread_csv\u001b[0m\u001b[1;33m(\u001b[0m\u001b[1;34m\"data_output/residential_c02.csv\"\u001b[0m\u001b[1;33m)\u001b[0m\u001b[1;33m\u001b[0m\u001b[1;33m\u001b[0m\u001b[0m\n\u001b[0;32m      5\u001b[0m \u001b[0mc02_commercial_df\u001b[0m \u001b[1;33m=\u001b[0m \u001b[0mpd\u001b[0m\u001b[1;33m.\u001b[0m\u001b[0mread_csv\u001b[0m\u001b[1;33m(\u001b[0m\u001b[1;34m\"data_output/commercial_c02.csv\"\u001b[0m\u001b[1;33m)\u001b[0m\u001b[1;33m\u001b[0m\u001b[1;33m\u001b[0m\u001b[0m\n",
      "\u001b[1;32m~\\anaconda3\\envs\\PythonData\\lib\\site-packages\\pandas\\io\\parsers.py\u001b[0m in \u001b[0;36mparser_f\u001b[1;34m(filepath_or_buffer, sep, delimiter, header, names, index_col, usecols, squeeze, prefix, mangle_dupe_cols, dtype, engine, converters, true_values, false_values, skipinitialspace, skiprows, skipfooter, nrows, na_values, keep_default_na, na_filter, verbose, skip_blank_lines, parse_dates, infer_datetime_format, keep_date_col, date_parser, dayfirst, cache_dates, iterator, chunksize, compression, thousands, decimal, lineterminator, quotechar, quoting, doublequote, escapechar, comment, encoding, dialect, error_bad_lines, warn_bad_lines, delim_whitespace, low_memory, memory_map, float_precision)\u001b[0m\n\u001b[0;32m    674\u001b[0m         )\n\u001b[0;32m    675\u001b[0m \u001b[1;33m\u001b[0m\u001b[0m\n\u001b[1;32m--> 676\u001b[1;33m         \u001b[1;32mreturn\u001b[0m \u001b[0m_read\u001b[0m\u001b[1;33m(\u001b[0m\u001b[0mfilepath_or_buffer\u001b[0m\u001b[1;33m,\u001b[0m \u001b[0mkwds\u001b[0m\u001b[1;33m)\u001b[0m\u001b[1;33m\u001b[0m\u001b[1;33m\u001b[0m\u001b[0m\n\u001b[0m\u001b[0;32m    677\u001b[0m \u001b[1;33m\u001b[0m\u001b[0m\n\u001b[0;32m    678\u001b[0m     \u001b[0mparser_f\u001b[0m\u001b[1;33m.\u001b[0m\u001b[0m__name__\u001b[0m \u001b[1;33m=\u001b[0m \u001b[0mname\u001b[0m\u001b[1;33m\u001b[0m\u001b[1;33m\u001b[0m\u001b[0m\n",
      "\u001b[1;32m~\\anaconda3\\envs\\PythonData\\lib\\site-packages\\pandas\\io\\parsers.py\u001b[0m in \u001b[0;36m_read\u001b[1;34m(filepath_or_buffer, kwds)\u001b[0m\n\u001b[0;32m    446\u001b[0m \u001b[1;33m\u001b[0m\u001b[0m\n\u001b[0;32m    447\u001b[0m     \u001b[1;31m# Create the parser.\u001b[0m\u001b[1;33m\u001b[0m\u001b[1;33m\u001b[0m\u001b[1;33m\u001b[0m\u001b[0m\n\u001b[1;32m--> 448\u001b[1;33m     \u001b[0mparser\u001b[0m \u001b[1;33m=\u001b[0m \u001b[0mTextFileReader\u001b[0m\u001b[1;33m(\u001b[0m\u001b[0mfp_or_buf\u001b[0m\u001b[1;33m,\u001b[0m \u001b[1;33m**\u001b[0m\u001b[0mkwds\u001b[0m\u001b[1;33m)\u001b[0m\u001b[1;33m\u001b[0m\u001b[1;33m\u001b[0m\u001b[0m\n\u001b[0m\u001b[0;32m    449\u001b[0m \u001b[1;33m\u001b[0m\u001b[0m\n\u001b[0;32m    450\u001b[0m     \u001b[1;32mif\u001b[0m \u001b[0mchunksize\u001b[0m \u001b[1;32mor\u001b[0m \u001b[0miterator\u001b[0m\u001b[1;33m:\u001b[0m\u001b[1;33m\u001b[0m\u001b[1;33m\u001b[0m\u001b[0m\n",
      "\u001b[1;32m~\\anaconda3\\envs\\PythonData\\lib\\site-packages\\pandas\\io\\parsers.py\u001b[0m in \u001b[0;36m__init__\u001b[1;34m(self, f, engine, **kwds)\u001b[0m\n\u001b[0;32m    878\u001b[0m             \u001b[0mself\u001b[0m\u001b[1;33m.\u001b[0m\u001b[0moptions\u001b[0m\u001b[1;33m[\u001b[0m\u001b[1;34m\"has_index_names\"\u001b[0m\u001b[1;33m]\u001b[0m \u001b[1;33m=\u001b[0m \u001b[0mkwds\u001b[0m\u001b[1;33m[\u001b[0m\u001b[1;34m\"has_index_names\"\u001b[0m\u001b[1;33m]\u001b[0m\u001b[1;33m\u001b[0m\u001b[1;33m\u001b[0m\u001b[0m\n\u001b[0;32m    879\u001b[0m \u001b[1;33m\u001b[0m\u001b[0m\n\u001b[1;32m--> 880\u001b[1;33m         \u001b[0mself\u001b[0m\u001b[1;33m.\u001b[0m\u001b[0m_make_engine\u001b[0m\u001b[1;33m(\u001b[0m\u001b[0mself\u001b[0m\u001b[1;33m.\u001b[0m\u001b[0mengine\u001b[0m\u001b[1;33m)\u001b[0m\u001b[1;33m\u001b[0m\u001b[1;33m\u001b[0m\u001b[0m\n\u001b[0m\u001b[0;32m    881\u001b[0m \u001b[1;33m\u001b[0m\u001b[0m\n\u001b[0;32m    882\u001b[0m     \u001b[1;32mdef\u001b[0m \u001b[0mclose\u001b[0m\u001b[1;33m(\u001b[0m\u001b[0mself\u001b[0m\u001b[1;33m)\u001b[0m\u001b[1;33m:\u001b[0m\u001b[1;33m\u001b[0m\u001b[1;33m\u001b[0m\u001b[0m\n",
      "\u001b[1;32m~\\anaconda3\\envs\\PythonData\\lib\\site-packages\\pandas\\io\\parsers.py\u001b[0m in \u001b[0;36m_make_engine\u001b[1;34m(self, engine)\u001b[0m\n\u001b[0;32m   1112\u001b[0m     \u001b[1;32mdef\u001b[0m \u001b[0m_make_engine\u001b[0m\u001b[1;33m(\u001b[0m\u001b[0mself\u001b[0m\u001b[1;33m,\u001b[0m \u001b[0mengine\u001b[0m\u001b[1;33m=\u001b[0m\u001b[1;34m\"c\"\u001b[0m\u001b[1;33m)\u001b[0m\u001b[1;33m:\u001b[0m\u001b[1;33m\u001b[0m\u001b[1;33m\u001b[0m\u001b[0m\n\u001b[0;32m   1113\u001b[0m         \u001b[1;32mif\u001b[0m \u001b[0mengine\u001b[0m \u001b[1;33m==\u001b[0m \u001b[1;34m\"c\"\u001b[0m\u001b[1;33m:\u001b[0m\u001b[1;33m\u001b[0m\u001b[1;33m\u001b[0m\u001b[0m\n\u001b[1;32m-> 1114\u001b[1;33m             \u001b[0mself\u001b[0m\u001b[1;33m.\u001b[0m\u001b[0m_engine\u001b[0m \u001b[1;33m=\u001b[0m \u001b[0mCParserWrapper\u001b[0m\u001b[1;33m(\u001b[0m\u001b[0mself\u001b[0m\u001b[1;33m.\u001b[0m\u001b[0mf\u001b[0m\u001b[1;33m,\u001b[0m \u001b[1;33m**\u001b[0m\u001b[0mself\u001b[0m\u001b[1;33m.\u001b[0m\u001b[0moptions\u001b[0m\u001b[1;33m)\u001b[0m\u001b[1;33m\u001b[0m\u001b[1;33m\u001b[0m\u001b[0m\n\u001b[0m\u001b[0;32m   1115\u001b[0m         \u001b[1;32melse\u001b[0m\u001b[1;33m:\u001b[0m\u001b[1;33m\u001b[0m\u001b[1;33m\u001b[0m\u001b[0m\n\u001b[0;32m   1116\u001b[0m             \u001b[1;32mif\u001b[0m \u001b[0mengine\u001b[0m \u001b[1;33m==\u001b[0m \u001b[1;34m\"python\"\u001b[0m\u001b[1;33m:\u001b[0m\u001b[1;33m\u001b[0m\u001b[1;33m\u001b[0m\u001b[0m\n",
      "\u001b[1;32m~\\anaconda3\\envs\\PythonData\\lib\\site-packages\\pandas\\io\\parsers.py\u001b[0m in \u001b[0;36m__init__\u001b[1;34m(self, src, **kwds)\u001b[0m\n\u001b[0;32m   1889\u001b[0m         \u001b[0mkwds\u001b[0m\u001b[1;33m[\u001b[0m\u001b[1;34m\"usecols\"\u001b[0m\u001b[1;33m]\u001b[0m \u001b[1;33m=\u001b[0m \u001b[0mself\u001b[0m\u001b[1;33m.\u001b[0m\u001b[0musecols\u001b[0m\u001b[1;33m\u001b[0m\u001b[1;33m\u001b[0m\u001b[0m\n\u001b[0;32m   1890\u001b[0m \u001b[1;33m\u001b[0m\u001b[0m\n\u001b[1;32m-> 1891\u001b[1;33m         \u001b[0mself\u001b[0m\u001b[1;33m.\u001b[0m\u001b[0m_reader\u001b[0m \u001b[1;33m=\u001b[0m \u001b[0mparsers\u001b[0m\u001b[1;33m.\u001b[0m\u001b[0mTextReader\u001b[0m\u001b[1;33m(\u001b[0m\u001b[0msrc\u001b[0m\u001b[1;33m,\u001b[0m \u001b[1;33m**\u001b[0m\u001b[0mkwds\u001b[0m\u001b[1;33m)\u001b[0m\u001b[1;33m\u001b[0m\u001b[1;33m\u001b[0m\u001b[0m\n\u001b[0m\u001b[0;32m   1892\u001b[0m         \u001b[0mself\u001b[0m\u001b[1;33m.\u001b[0m\u001b[0munnamed_cols\u001b[0m \u001b[1;33m=\u001b[0m \u001b[0mself\u001b[0m\u001b[1;33m.\u001b[0m\u001b[0m_reader\u001b[0m\u001b[1;33m.\u001b[0m\u001b[0munnamed_cols\u001b[0m\u001b[1;33m\u001b[0m\u001b[1;33m\u001b[0m\u001b[0m\n\u001b[0;32m   1893\u001b[0m \u001b[1;33m\u001b[0m\u001b[0m\n",
      "\u001b[1;32mpandas\\_libs\\parsers.pyx\u001b[0m in \u001b[0;36mpandas._libs.parsers.TextReader.__cinit__\u001b[1;34m()\u001b[0m\n",
      "\u001b[1;32mpandas\\_libs\\parsers.pyx\u001b[0m in \u001b[0;36mpandas._libs.parsers.TextReader._setup_parser_source\u001b[1;34m()\u001b[0m\n",
      "\u001b[1;31mFileNotFoundError\u001b[0m: [Errno 2] File data_output/residential_solar_data.csv does not exist: 'data_output/residential_solar_data.csv'"
     ]
    }
   ],
   "source": [
    "sol_residential_df = pd.read_csv(\"data_output/residential_solar_data.csv\")\n",
    "sol_commercial_df = pd.read_csv(\"data_output/commercial_solar_data.csv\")\n",
    "sol_industrial_df = pd.read_csv(\"data_output/industrial_solar_data.csv\")\n",
    "co2_residential_df= pd.read_csv(\"data_output/residential_c02.csv\")\n",
    "c02_commercial_df = pd.read_csv(\"data_output/commercial_c02.csv\")\n",
    "co2_industrial_df = pd.read_csv(\"data_output/industrial_c02.csv\")\n",
    "residential_energy_df = pd.read_csv(\"data_output/Residential_Energy_Consumption.csv\")\n",
    "commercial_energy_df = pd.read_csv(\"data_output/Commercial_Energy_Consumption.csv\")\n",
    "industrial_energy_df = pd.read_csv(\"data_output/Industrial_Energy_Consumption.csv\")\n",
    "#Consumption data in billions BTUs"
   ]
  },
  {
   "cell_type": "code",
   "execution_count": 3,
   "metadata": {},
   "outputs": [
    {
     "ename": "NameError",
     "evalue": "name 'industrial_energy_df' is not defined",
     "output_type": "error",
     "traceback": [
      "\u001b[1;31m---------------------------------------------------------------------------\u001b[0m",
      "\u001b[1;31mNameError\u001b[0m                                 Traceback (most recent call last)",
      "\u001b[1;32m<ipython-input-3-7ec5be0ce55d>\u001b[0m in \u001b[0;36m<module>\u001b[1;34m\u001b[0m\n\u001b[0;32m      7\u001b[0m \u001b[1;31m#residential_energy_df.info()\u001b[0m\u001b[1;33m\u001b[0m\u001b[1;33m\u001b[0m\u001b[1;33m\u001b[0m\u001b[0m\n\u001b[0;32m      8\u001b[0m \u001b[1;31m#commercial_energy_df.info()\u001b[0m\u001b[1;33m\u001b[0m\u001b[1;33m\u001b[0m\u001b[1;33m\u001b[0m\u001b[0m\n\u001b[1;32m----> 9\u001b[1;33m \u001b[0mindustrial_energy_df\u001b[0m\u001b[1;33m.\u001b[0m\u001b[0minfo\u001b[0m\u001b[1;33m(\u001b[0m\u001b[1;33m)\u001b[0m\u001b[1;33m\u001b[0m\u001b[1;33m\u001b[0m\u001b[0m\n\u001b[0m",
      "\u001b[1;31mNameError\u001b[0m: name 'industrial_energy_df' is not defined"
     ]
    }
   ],
   "source": [
    "#sol_residential_df.info()\n",
    "#sol_industrial_df.info()\n",
    "#sol_commercial_df.info()\n",
    "#co2_residential_df.info()\n",
    "#c02_commercial_df.info()\n",
    "#co2_industrial_df.info()\n",
    "#residential_energy_df.info()\n",
    "#commercial_energy_df.info()\n",
    "industrial_energy_df.info()"
   ]
  },
  {
   "cell_type": "code",
   "execution_count": 4,
   "metadata": {},
   "outputs": [
    {
     "ename": "NameError",
     "evalue": "name 'co2_residential_df' is not defined",
     "output_type": "error",
     "traceback": [
      "\u001b[1;31m---------------------------------------------------------------------------\u001b[0m",
      "\u001b[1;31mNameError\u001b[0m                                 Traceback (most recent call last)",
      "\u001b[1;32m<ipython-input-4-9e352f0bff2b>\u001b[0m in \u001b[0;36m<module>\u001b[1;34m\u001b[0m\n\u001b[1;32m----> 1\u001b[1;33m \u001b[0mco2_residential_df\u001b[0m\u001b[1;33m\u001b[0m\u001b[1;33m\u001b[0m\u001b[0m\n\u001b[0m\u001b[0;32m      2\u001b[0m \u001b[0msol_residential_df\u001b[0m\u001b[1;33m\u001b[0m\u001b[1;33m\u001b[0m\u001b[0m\n\u001b[0;32m      3\u001b[0m \u001b[0mresidential_energy_df\u001b[0m\u001b[1;33m\u001b[0m\u001b[1;33m\u001b[0m\u001b[0m\n",
      "\u001b[1;31mNameError\u001b[0m: name 'co2_residential_df' is not defined"
     ]
    }
   ],
   "source": [
    "co2_residential_df\n",
    "sol_residential_df\n",
    "residential_energy_df"
   ]
  },
  {
   "cell_type": "markdown",
   "metadata": {},
   "source": [
    "Solar energy: 2000-2018; 52 rows; dtype of each year column = int64; units of energy consumption are billion BTU. Data includes all 50 states, plus DC and USA. Columns are years in descending order.\n",
    "\n",
    "CO2 emissions: 2000-2015; 50 rows; dtype of each year column = float64; units of emissions are million metric tons CO2. Data includes all 50 US states, columns are years in ascending order. \"States\" column = state abbreviations\n",
    "\n",
    "Residential energy: 2000-2015; 52 rows; dtype of each year column = int64; units of energy consumption are billion BTU. Data includes all 50 states, plus DC and USA. Columns are years in descending order. \"State\" column = 'USA-abbr.'"
   ]
  },
  {
   "cell_type": "code",
   "execution_count": null,
   "metadata": {},
   "outputs": [],
   "source": [
    "sol_r_1=sol_residential_df[sol_residential_df.State != \"USA-DC\"]\n",
    "sol_r_2 = sol_r_1[sol_r_1.State != \"USA\"]\n",
    "cleaned_solar_res_df = sol_r_2.drop(columns = [\"2018\",\"2017\",\"2016\"])\n",
    "cleaned_solar_res_df.to_csv(\"data_output/cleaned_solar_residential.csv\")"
   ]
  },
  {
   "cell_type": "code",
   "execution_count": null,
   "metadata": {},
   "outputs": [],
   "source": [
    "sol_c_1 = sol_commercial_df[sol_commercial_df.State != \"USA-DC\"]\n",
    "sol_c_2 = sol_c_1[sol_c_1.State != \"USA\"]\n",
    "cleaned_solar_com_df = sol_c_2.drop(columns = [\"2018\",\"2017\",\"2016\"])\n",
    "cleaned_solar_com_df.to_csv(\"data_output/cleaned_solar_commercial.csv\")"
   ]
  },
  {
   "cell_type": "code",
   "execution_count": null,
   "metadata": {},
   "outputs": [],
   "source": [
    "sol_i_1 = sol_industrial_df[sol_industrial_df.State != \"USA-DC\"]\n",
    "sol_i_2 = sol_i_1[sol_i_1.State != \"USA\"]\n",
    "cleaned_solar_ind_df = sol_i_2.drop(columns = [\"2018\",\"2017\",\"2016\"])\n",
    "cleaned_solar_ind_df.to_csv(\"data_output/cleaned_solar_industrial.csv\")"
   ]
  },
  {
   "cell_type": "code",
   "execution_count": null,
   "metadata": {},
   "outputs": [],
   "source": [
    "res_e_1 = residential_energy_df[residential_energy_df.State != \"USA-DC\"]\n",
    "res_e_1 = res_e_1[res_e_1.State != \"USA\"]\n",
    "res_e_1\n",
    "#cleaned_solar_ind_df = sol_i_2.drop(columns = [\"2018\",\"2017\",\"2016\"])\n",
    "res_e_1.to_csv(\"data_output/cleaned_Residential_Energy.csv\")"
   ]
  },
  {
   "cell_type": "code",
   "execution_count": null,
   "metadata": {},
   "outputs": [],
   "source": [
    "com_e_1 = commercial_energy_df[commercial_energy_df.State != \"USA-DC\"]\n",
    "com_e_1 = com_e_1[com_e_1.State != \"USA\"]\n",
    "#com_e_1\n",
    "cleaned_com_e_df = com_e_1.drop(columns = [\"2018\",\"2017\",\"2016\"])\n",
    "cleaned_com_e_df.to_csv(\"data_output/cleaned_Commercial_Energy.csv\")"
   ]
  },
  {
   "cell_type": "code",
   "execution_count": null,
   "metadata": {},
   "outputs": [],
   "source": [
    "ind_e_1 = industrial_energy_df[industrial_energy_df.State != \"USA-DC\"]\n",
    "ind_e_2 = ind_e_1[ind_e_1.State != \"USA\"]\n",
    "#ind_e_2\n",
    "cleaned_ind_e_df = ind_e_2.drop(columns = [\"2018\",\"2017\",\"2016\"])\n",
    "cleaned_ind_e_df.to_csv(\"data_output/cleaned_Industrial_Energy.csv\")"
   ]
  },
  {
   "cell_type": "markdown",
   "metadata": {},
   "source": [
    "# Commercial and Industrial State Data Clean Up"
   ]
  },
  {
   "cell_type": "markdown",
   "metadata": {},
   "source": [
    "Commercial Energy Consumption Data Exploration"
   ]
  },
  {
   "cell_type": "code",
   "execution_count": null,
   "metadata": {},
   "outputs": [],
   "source": [
    "#Commercial Total Energy Consumed\n",
    "com_series_stateids =[\"SEDS.TECCB.AL.A\", \"SEDS.TECCB.AK.A\", \"SEDS.TECCB.AZ.A\", \"SEDS.TECCB.AR.A\", \"SEDS.TECCB.CA.A\", \n",
    "                      \"SEDS.TECCB.CO.A\", \"SEDS.TECCB.CT.A\", \"SEDS.TECCB.DC.A\", \"SEDS.TECCB.DE.A\", \"SEDS.TECCB.FL.A\", \n",
    "                      \"SEDS.TECCB.GA.A\", \"SEDS.TECCB.HI.A\", \"SEDS.TECCB.ID.A\", \"SEDS.TECCB.IL.A\", \"SEDS.TECCB.IN.A\", \n",
    "                      \"SEDS.TECCB.IA.A\", \"SEDS.TECCB.KS.A\", \"SEDS.TECCB.KY.A\", \"SEDS.TECCB.LA.A\", \"SEDS.TECCB.ME.A\", \n",
    "                      \"SEDS.TECCB.MD.A\", \"SEDS.TECCB.MA.A\", \"SEDS.TECCB.MI.A\", \"SEDS.TECCB.MN.A\", \"SEDS.TECCB.MS.A\", \n",
    "                      \"SEDS.TECCB.MO.A\", \"SEDS.TECCB.MT.A\", \"SEDS.TECCB.NE.A\", \"SEDS.TECCB.NV.A\", \"SEDS.TECCB.NH.A\", \n",
    "                      \"SEDS.TECCB.NJ.A\", \"SEDS.TECCB.NM.A\", \"SEDS.TECCB.NY.A\", \"SEDS.TECCB.NC.A\", \"SEDS.TECCB.ND.A\", \n",
    "                      \"SEDS.TECCB.OH.A\", \"SEDS.TECCB.OK.A\", \"SEDS.TECCB.OR.A\", \"SEDS.TECCB.PA.A\", \"SEDS.TECCB.RI.A\", \n",
    "                      \"SEDS.TECCB.SC.A\", \"SEDS.TECCB.SD.A\", \"SEDS.TECCB.TN.A\", \"SEDS.TECCB.TX.A\", \"SEDS.TECCB.UT.A\", \n",
    "                      \"SEDS.TECCB.VT.A\", \"SEDS.TECCB.VA.A\", \"SEDS.TECCB.WA.A\", \"SEDS.TECCB.WV.A\", \"SEDS.TECCB.WI.A\", \n",
    "                      \"SEDS.TECCB.WY.A\", \"SEDS.TECCB.US.A\"]"
   ]
  },
  {
   "cell_type": "code",
   "execution_count": null,
   "metadata": {},
   "outputs": [],
   "source": [
    "api_key = '6137f2c566df03b61653f96b7dc5d69d'"
   ]
  },
  {
   "cell_type": "code",
   "execution_count": null,
   "metadata": {},
   "outputs": [],
   "source": [
    "energy_consumption = {}\n",
    "state_name = []\n",
    "year = []\n",
    "consumption = []"
   ]
  },
  {
   "cell_type": "code",
   "execution_count": null,
   "metadata": {},
   "outputs": [],
   "source": [
    "for row in com_series_stateids:\n",
    "    url = \"http://api.eia.gov/series/?\"\n",
    "    query_url = url + \"api_key=\" + api_key + \"&series_id=\"\n",
    "#     year=[]\n",
    "#     energy_consumed = []\n",
    "    response = requests.get(query_url + row).json()['series'][0]['data'][3:19]\n",
    "    name_response = requests.get(query_url + row).json()['series'][0]['geography']\n",
    "        \n",
    "    for item in response:\n",
    "        state_name.append(name_response)\n",
    "        year.append(item[0])\n",
    "        consumption.append(item[1])\n",
    "        \n",
    "    print(response)\n",
    "    print(name_response)"
   ]
  },
  {
   "cell_type": "code",
   "execution_count": null,
   "metadata": {},
   "outputs": [],
   "source": [
    "com_df_info = pd.DataFrame({\"State\" : state_name, \"Year\" : year, \"Consumption\" : consumption})\n",
    "com_df_info.head()"
   ]
  },
  {
   "cell_type": "code",
   "execution_count": null,
   "metadata": {},
   "outputs": [],
   "source": [
    "state = com_df_info[\"State\"].unique()\n",
    "y2015 = com_df_info.loc[com_df_info[\"Year\"] == \"2015\",:]   \n",
    "y2015_data = y2015[\"Consumption\"].values\n",
    "\n",
    "y2014 = com_df_info.loc[com_df_info[\"Year\"] == \"2014\",:]   \n",
    "y2014_data = y2014[\"Consumption\"].values\n",
    "\n",
    "y2013 = com_df_info.loc[com_df_info[\"Year\"] == \"2013\",:]   \n",
    "y2013_data = y2013[\"Consumption\"].values\n",
    "\n",
    "y2012 = com_df_info.loc[com_df_info[\"Year\"] == \"2012\",:]   \n",
    "y2012_data = y2012[\"Consumption\"].values\n",
    "\n",
    "y2011 = com_df_info.loc[com_df_info[\"Year\"] == \"2011\",:]   \n",
    "y2011_data = y2011[\"Consumption\"].values\n",
    "\n",
    "y2010 = com_df_info.loc[com_df_info[\"Year\"] == \"2010\",:]   \n",
    "y2010_data = y2010[\"Consumption\"].values\n",
    "\n",
    "y2009 = com_df_info.loc[com_df_info[\"Year\"] == \"2009\",:]   \n",
    "y2009_data = y2009[\"Consumption\"].values\n",
    "\n",
    "y2008 = com_df_info.loc[com_df_info[\"Year\"] == \"2008\",:]   \n",
    "y2008_data = y2008[\"Consumption\"].values\n",
    "\n",
    "y2007 = com_df_info.loc[com_df_info[\"Year\"] == \"2007\",:]   \n",
    "y2007_data = y2007[\"Consumption\"].values\n",
    "\n",
    "y2006 = com_df_info.loc[com_df_info[\"Year\"] == \"2006\",:]   \n",
    "y2006_data = y2006[\"Consumption\"].values\n",
    "\n",
    "y2005 = com_df_info.loc[com_df_info[\"Year\"] == \"2005\",:]   \n",
    "y2005_data = y2005[\"Consumption\"].values\n",
    "\n",
    "y2004 = com_df_info.loc[com_df_info[\"Year\"] == \"2004\",:]   \n",
    "y2004_data = y2004[\"Consumption\"].values\n",
    "\n",
    "y2003 = com_df_info.loc[com_df_info[\"Year\"] == \"2003\",:]   \n",
    "y2003_data = y2003[\"Consumption\"].values\n",
    "\n",
    "y2002 = com_df_info.loc[com_df_info[\"Year\"] == \"2002\",:]   \n",
    "y2002_data = y2002[\"Consumption\"].values\n",
    "\n",
    "y2001 = com_df_info.loc[com_df_info[\"Year\"] == \"2001\",:]   \n",
    "y2001_data = y2001[\"Consumption\"].values\n",
    "\n",
    "y2000 = com_df_info.loc[com_df_info[\"Year\"] == \"2000\",:]   \n",
    "y2000_data = y2000[\"Consumption\"].values"
   ]
  },
  {
   "cell_type": "code",
   "execution_count": null,
   "metadata": {},
   "outputs": [],
   "source": [
    "com_consumption_df = pd.DataFrame({\"State\":state, \"2015\":y2015_data, \"2014\":y2014_data, \"2013\":y2013_data, \"2012\":y2012_data,\n",
    "                                   \"2011\":y2011_data, \"2010\":y2010_data, \"2009\":y2009_data, \"2008\":y2008_data, \"2007\":y2007_data,\n",
    "                                   \"2006\":y2006_data, \"2005\":y2005_data, \"2004\":y2004_data, \"2003\":y2003_data, \"2002\":y2002_data,\n",
    "                                   \"2001\":y2001_data, \"2000\":y2000_data})\n",
    "com_consumption_df.head()"
   ]
  },
  {
   "cell_type": "code",
   "execution_count": null,
   "metadata": {},
   "outputs": [],
   "source": [
    "com_consumption_df = com_consumption_df.set_index('State')\n",
    "com_consumption_df['SubTotal'] = (com_consumption_df['2015'] + com_consumption_df['2014'] + com_consumption_df['2013'] + \n",
    "                               com_consumption_df['2012'] + com_consumption_df['2011'] + com_consumption_df['2010'] +\n",
    "                               com_consumption_df['2009'] + com_consumption_df['2008'] + com_consumption_df['2007'] +\n",
    "                               com_consumption_df['2006'] + com_consumption_df['2005'] + com_consumption_df['2004'] +\n",
    "                               com_consumption_df['2003'] + com_consumption_df['2002'] + com_consumption_df['2001'] +\n",
    "                               com_consumption_df['2000'])\n",
    "\n",
    "com_consumption_df.head()"
   ]
  },
  {
   "cell_type": "code",
   "execution_count": null,
   "metadata": {},
   "outputs": [],
   "source": [
    "com_consumption_df.to_csv(\"Commercial_Energy_Consumption.csv\")"
   ]
  },
  {
   "cell_type": "markdown",
   "metadata": {},
   "source": [
    "Industrial Energy Consumption Data Exploration"
   ]
  },
  {
   "cell_type": "code",
   "execution_count": null,
   "metadata": {},
   "outputs": [],
   "source": [
    "#Industrial Total Energy Consumed\n",
    "ind_series_stateids =[\"SEDS.TEICB.AL.A\", \"SEDS.TEICB.AK.A\", \"SEDS.TEICB.AZ.A\", \"SEDS.TEICB.AR.A\", \"SEDS.TEICB.CA.A\", \n",
    "                      \"SEDS.TEICB.CO.A\", \"SEDS.TEICB.CT.A\", \"SEDS.TEICB.DC.A\", \"SEDS.TEICB.DE.A\", \"SEDS.TEICB.FL.A\", \n",
    "                      \"SEDS.TEICB.GA.A\", \"SEDS.TEICB.HI.A\", \"SEDS.TEICB.ID.A\", \"SEDS.TEICB.IL.A\", \"SEDS.TEICB.IN.A\", \n",
    "                      \"SEDS.TEICB.IA.A\", \"SEDS.TEICB.KS.A\", \"SEDS.TEICB.KY.A\", \"SEDS.TEICB.LA.A\", \"SEDS.TEICB.ME.A\", \n",
    "                      \"SEDS.TEICB.MD.A\", \"SEDS.TEICB.MA.A\", \"SEDS.TEICB.MI.A\", \"SEDS.TEICB.MN.A\", \"SEDS.TEICB.MS.A\", \n",
    "                      \"SEDS.TEICB.MO.A\", \"SEDS.TEICB.MT.A\", \"SEDS.TEICB.NE.A\", \"SEDS.TEICB.NV.A\", \"SEDS.TEICB.NH.A\", \n",
    "                      \"SEDS.TEICB.NJ.A\", \"SEDS.TEICB.NM.A\", \"SEDS.TEICB.NY.A\", \"SEDS.TEICB.NC.A\", \"SEDS.TEICB.ND.A\", \n",
    "                      \"SEDS.TEICB.OH.A\", \"SEDS.TEICB.OK.A\", \"SEDS.TEICB.OR.A\", \"SEDS.TEICB.PA.A\", \"SEDS.TEICB.RI.A\", \n",
    "                      \"SEDS.TEICB.SC.A\", \"SEDS.TEICB.SD.A\", \"SEDS.TEICB.TN.A\", \"SEDS.TEICB.TX.A\", \"SEDS.TEICB.UT.A\", \n",
    "                      \"SEDS.TEICB.VT.A\", \"SEDS.TEICB.VA.A\", \"SEDS.TEICB.WA.A\", \"SEDS.TEICB.WV.A\", \"SEDS.TEICB.WI.A\", \n",
    "                      \"SEDS.TEICB.WY.A\", \"SEDS.TEICB.US.A\"]"
   ]
  },
  {
   "cell_type": "code",
   "execution_count": null,
   "metadata": {},
   "outputs": [],
   "source": [
    "energy_consumption = {}\n",
    "state_name = []\n",
    "year = []\n",
    "consumption = []"
   ]
  },
  {
   "cell_type": "code",
   "execution_count": null,
   "metadata": {},
   "outputs": [],
   "source": [
    "for row in ind_series_stateids:\n",
    "    url = \"http://api.eia.gov/series/?\"\n",
    "    query_url = url + \"api_key=\" + api_key + \"&series_id=\"\n",
    "#     year=[]\n",
    "#     energy_consumed = []\n",
    "    response = requests.get(query_url + row).json()['series'][0]['data'][3:19]\n",
    "    name_response = requests.get(query_url + row).json()['series'][0]['geography']\n",
    "        \n",
    "    for item in response:\n",
    "        state_name.append(name_response)\n",
    "        year.append(item[0])\n",
    "        consumption.append(item[1])\n",
    "        \n",
    "    print(response)\n",
    "    print(name_response)"
   ]
  },
  {
   "cell_type": "code",
   "execution_count": null,
   "metadata": {},
   "outputs": [],
   "source": [
    "ind_df_info = pd.DataFrame({\"State\" : state_name, \"Year\" : year, \"Consumption\" : consumption})\n",
    "ind_df_info.head()"
   ]
  },
  {
   "cell_type": "code",
   "execution_count": null,
   "metadata": {},
   "outputs": [],
   "source": [
    "state = ind_df_info[\"State\"].unique()\n",
    "y2015 = ind_df_info.loc[ind_df_info[\"Year\"] == \"2015\",:]   \n",
    "y2015_data = y2015[\"Consumption\"].values\n",
    "\n",
    "y2014 = ind_df_info.loc[ind_df_info[\"Year\"] == \"2014\",:]   \n",
    "y2014_data = y2014[\"Consumption\"].values\n",
    "\n",
    "y2013 = ind_df_info.loc[ind_df_info[\"Year\"] == \"2013\",:]   \n",
    "y2013_data = y2013[\"Consumption\"].values\n",
    "\n",
    "y2012 = ind_df_info.loc[ind_df_info[\"Year\"] == \"2012\",:]   \n",
    "y2012_data = y2012[\"Consumption\"].values\n",
    "\n",
    "y2011 = ind_df_info.loc[ind_df_info[\"Year\"] == \"2011\",:]   \n",
    "y2011_data = y2011[\"Consumption\"].values\n",
    "\n",
    "y2010 = ind_df_info.loc[ind_df_info[\"Year\"] == \"2010\",:]   \n",
    "y2010_data = y2010[\"Consumption\"].values\n",
    "\n",
    "y2009 = ind_df_info.loc[ind_df_info[\"Year\"] == \"2009\",:]   \n",
    "y2009_data = y2009[\"Consumption\"].values\n",
    "\n",
    "y2008 = ind_df_info.loc[ind_df_info[\"Year\"] == \"2008\",:]   \n",
    "y2008_data = y2008[\"Consumption\"].values\n",
    "\n",
    "y2007 = ind_df_info.loc[ind_df_info[\"Year\"] == \"2007\",:]   \n",
    "y2007_data = y2007[\"Consumption\"].values\n",
    "\n",
    "y2006 = ind_df_info.loc[ind_df_info[\"Year\"] == \"2006\",:]   \n",
    "y2006_data = y2006[\"Consumption\"].values\n",
    "\n",
    "y2005 = ind_df_info.loc[ind_df_info[\"Year\"] == \"2005\",:]   \n",
    "y2005_data = y2005[\"Consumption\"].values\n",
    "\n",
    "y2004 = ind_df_info.loc[ind_df_info[\"Year\"] == \"2004\",:]   \n",
    "y2004_data = y2004[\"Consumption\"].values\n",
    "\n",
    "y2003 = ind_df_info.loc[ind_df_info[\"Year\"] == \"2003\",:]   \n",
    "y2003_data = y2003[\"Consumption\"].values\n",
    "\n",
    "y2002 = ind_df_info.loc[ind_df_info[\"Year\"] == \"2002\",:]   \n",
    "y2002_data = y2002[\"Consumption\"].values\n",
    "\n",
    "y2001 = ind_df_info.loc[ind_df_info[\"Year\"] == \"2001\",:]   \n",
    "y2001_data = y2001[\"Consumption\"].values\n",
    "\n",
    "y2000 = ind_df_info.loc[ind_df_info[\"Year\"] == \"2000\",:]   \n",
    "y2000_data = y2000[\"Consumption\"].values"
   ]
  },
  {
   "cell_type": "code",
   "execution_count": null,
   "metadata": {},
   "outputs": [],
   "source": [
    "ind_consumption_df = pd.DataFrame({\"State\":state, \"2015\":y2015_data, \"2014\":y2014_data, \"2013\":y2013_data, \"2012\":y2012_data,\n",
    "                                   \"2011\":y2011_data, \"2010\":y2010_data, \"2009\":y2009_data, \"2008\":y2008_data, \"2007\":y2007_data,\n",
    "                                   \"2006\":y2006_data, \"2005\":y2005_data, \"2004\":y2004_data, \"2003\":y2003_data, \"2002\":y2002_data,\n",
    "                                   \"2001\":y2001_data, \"2000\":y2000_data})\n",
    "ind_consumption_df.head()"
   ]
  },
  {
   "cell_type": "code",
   "execution_count": null,
   "metadata": {},
   "outputs": [],
   "source": [
    "ind_consumption_df = ind_consumption_df.set_index(\"State\")\n",
    "ind_consumption_df['SubTotal'] = (ind_consumption_df['2015'] + ind_consumption_df['2014'] + ind_consumption_df['2013'] + \n",
    "                               ind_consumption_df['2012'] + ind_consumption_df['2011'] + ind_consumption_df['2010'] +\n",
    "                               ind_consumption_df['2009'] + ind_consumption_df['2008'] + ind_consumption_df['2007'] +\n",
    "                               ind_consumption_df['2006'] + ind_consumption_df['2005'] + ind_consumption_df['2004'] +\n",
    "                               ind_consumption_df['2003'] + ind_consumption_df['2002'] + ind_consumption_df['2001'] +\n",
    "                               ind_consumption_df['2000'])\n",
    "ind_consumption_df"
   ]
  },
  {
   "cell_type": "code",
   "execution_count": null,
   "metadata": {},
   "outputs": [],
   "source": [
    "ind_consumption_df.to_csv(\"Industrial_Energy_Consumption.csv\")"
   ]
  },
  {
   "cell_type": "code",
   "execution_count": null,
   "metadata": {},
   "outputs": [],
   "source": [
    "com_df = com_consumption_df.drop(['USA'])\n",
    "com_df = com_df.sort_values('SubTotal')\n",
    "\n",
    "totals = com_df[\"SubTotal\"]\n",
    "states = com_df.index.values\n",
    "ttl = \"Total Commercial Consumption of Energy per State from 2000-2015\"\n",
    "\n",
    "x = states\n",
    "y = totals.values\n",
    "x_position = [0,1,2,3,4,5,6,7,8,9,10,11,12,13,14,15,16,17,18,19,20,21,22,23,24,25,26,27,28,29,30,31,32,33,34,35,36,37,38,39,40,\n",
    "              41,42,43,44,45,46,47,48,49,50]\n",
    "\n",
    "plt.figure(figsize=(20,8))\n",
    "plt.bar(x, y, width=0.3, align=\"center\")\n",
    "plt.title(ttl, pad=25)\n",
    "plt.xlabel(\"State\")\n",
    "plt.ylabel(\"Consumption (Billion BTUs)\")\n",
    "plt.xticks(x, rotation='vertical')\n",
    "plt.tick_params(axis='x', labelsize=8)\n",
    "plt.xlim(-0.5, (len(x) - 0.5))\n",
    "plt.tight_layout()\n",
    "plt.show()"
   ]
  },
  {
   "cell_type": "markdown",
   "metadata": {},
   "source": [
    "# Residential State Data Clean Up"
   ]
  },
  {
   "cell_type": "code",
   "execution_count": null,
   "metadata": {},
   "outputs": [],
   "source": [
    "#List all series IDs for states including USA\n",
    "series_stateids =[ \"SEDS.TERCB.AL.A\",\"SEDS.TERCB.AK.A\", \"SEDS.TERCB.AZ.A\", \"SEDS.TERCB.AR.A\", \"SEDS.TERCB.CA.A\", \"SEDS.TERCB.CO.A\", \"SEDS.TERCB.CT.A\", \"SEDS.TERCB.DC.A\", \"SEDS.TERCB.DE.A\", \"SEDS.TERCB.FL.A\", \"SEDS.TERCB.GA.A\", \"SEDS.TERCB.HI.A\", \"SEDS.TERCB.ID.A\", \"SEDS.TERCB.IL.A\", \"SEDS.TERCB.IN.A\", \"SEDS.TERCB.IA.A\", \"SEDS.TERCB.KS.A\", \"SEDS.TERCB.KY.A\", \"SEDS.TERCB.LA.A\", \"SEDS.TERCB.ME.A\", \"SEDS.TERCB.MD.A\", \"SEDS.TERCB.MA.A\", \"SEDS.TERCB.MI.A\", \"SEDS.TERCB.MN.A\", \"SEDS.TERCB.MS.A\", \"SEDS.TERCB.MO.A\", \"SEDS.TERCB.MT.A\", \"SEDS.TERCB.NE.A\", \"SEDS.TERCB.NV.A\", \"SEDS.TERCB.NH.A\", \"SEDS.TERCB.NJ.A\", \"SEDS.TERCB.NM.A\", \"SEDS.TERCB.NY.A\", \"SEDS.TERCB.NC.A\", \"SEDS.TERCB.ND.A\", \"SEDS.TERCB.OH.A\", \"SEDS.TERCB.OK.A\", \"SEDS.TERCB.OR.A\", \"SEDS.TERCB.PA.A\", \"SEDS.TERCB.RI.A\", \"SEDS.TERCB.SC.A\", \"SEDS.TERCB.SD.A\", \"SEDS.TERCB.TN.A\", \"SEDS.TERCB.TX.A\", \"SEDS.TERCB.UT.A\", \"SEDS.TERCB.VT.A\", \"SEDS.TERCB.VA.A\", \"SEDS.TERCB.WA.A\", \"SEDS.TERCB.WV.A\", \"SEDS.TERCB.WI.A\", \"SEDS.TERCB.WY.A\", \"SEDS.TERCB.US.A\"]"
   ]
  },
  {
   "cell_type": "code",
   "execution_count": null,
   "metadata": {},
   "outputs": [],
   "source": [
    "#Set EIA API Key\n",
    "api_key = '6137f2c566df03b61653f96b7dc5d69d'"
   ]
  },
  {
   "cell_type": "code",
   "execution_count": null,
   "metadata": {},
   "outputs": [],
   "source": [
    "#Create dictionary and lists to hold information\n",
    "energy_consumption = {}\n",
    "state_name = []\n",
    "year = []\n",
    "consumption = []"
   ]
  },
  {
   "cell_type": "code",
   "execution_count": null,
   "metadata": {},
   "outputs": [],
   "source": [
    "#Loop through each state data and save data\n",
    "for row in series_stateids:\n",
    "    url = \"http://api.eia.gov/series/?\"\n",
    "    query_url = url + \"api_key=\" + api_key + \"&series_id=\"\n",
    "#     year=[]\n",
    "#     energy_consumed = []\n",
    "    response = requests.get(query_url + row).json()['series'][0]['data'][3:19]\n",
    "    name_response = requests.get(query_url + row).json()['series'][0]['geography']\n",
    "        \n",
    "    for item in response:\n",
    "        state_name.append(name_response)\n",
    "        year.append(item[0])\n",
    "        consumption.append(item[1])\n",
    "        \n",
    "    print(response)\n",
    "    print(name_response)"
   ]
  },
  {
   "cell_type": "code",
   "execution_count": null,
   "metadata": {},
   "outputs": [],
   "source": [
    "#Create dataframe\n",
    "df_info = pd.DataFrame({\"State\" : state_name, \"Year\" : year, \"Consumption\" : consumption})\n",
    "df_info"
   ]
  },
  {
   "cell_type": "code",
   "execution_count": null,
   "metadata": {},
   "outputs": [],
   "source": [
    "#Reorganize dataframe so that it is easier to read\n",
    "state = df_info[\"State\"].unique()\n",
    "y2015 = df_info.loc[df_info[\"Year\"] == \"2015\",:]   \n",
    "y2015_data = y2015[\"Consumption\"].values\n",
    "\n",
    "y2014 = df_info.loc[df_info[\"Year\"] == \"2014\",:]   \n",
    "y2014_data = y2014[\"Consumption\"].values\n",
    "\n",
    "y2013 = df_info.loc[df_info[\"Year\"] == \"2013\",:]   \n",
    "y2013_data = y2013[\"Consumption\"].values\n",
    "\n",
    "y2012 = df_info.loc[df_info[\"Year\"] == \"2012\",:]   \n",
    "y2012_data = y2012[\"Consumption\"].values\n",
    "\n",
    "y2011 = df_info.loc[df_info[\"Year\"] == \"2011\",:]   \n",
    "y2011_data = y2011[\"Consumption\"].values\n",
    "\n",
    "y2010 = df_info.loc[df_info[\"Year\"] == \"2010\",:]   \n",
    "y2010_data = y2010[\"Consumption\"].values\n",
    "\n",
    "y2009 = df_info.loc[df_info[\"Year\"] == \"2009\",:]   \n",
    "y2009_data = y2009[\"Consumption\"].values\n",
    "\n",
    "y2008 = df_info.loc[df_info[\"Year\"] == \"2008\",:]   \n",
    "y2008_data = y2008[\"Consumption\"].values\n",
    "\n",
    "y2007 = df_info.loc[df_info[\"Year\"] == \"2007\",:]   \n",
    "y2007_data = y2007[\"Consumption\"].values\n",
    "\n",
    "y2006 = df_info.loc[df_info[\"Year\"] == \"2006\",:]   \n",
    "y2006_data = y2006[\"Consumption\"].values\n",
    "\n",
    "y2005 = df_info.loc[df_info[\"Year\"] == \"2005\",:]   \n",
    "y2005_data = y2005[\"Consumption\"].values\n",
    "\n",
    "y2004 = df_info.loc[df_info[\"Year\"] == \"2004\",:]   \n",
    "y2004_data = y2004[\"Consumption\"].values\n",
    "\n",
    "y2003 = df_info.loc[df_info[\"Year\"] == \"2003\",:]   \n",
    "y2003_data = y2003[\"Consumption\"].values\n",
    "\n",
    "y2002 = df_info.loc[df_info[\"Year\"] == \"2002\",:]   \n",
    "y2002_data = y2002[\"Consumption\"].values\n",
    "\n",
    "y2001 = df_info.loc[df_info[\"Year\"] == \"2001\",:]   \n",
    "y2001_data = y2001[\"Consumption\"].values\n",
    "\n",
    "y2000 = df_info.loc[df_info[\"Year\"] == \"2000\",:]   \n",
    "y2000_data = y2000[\"Consumption\"].values"
   ]
  },
  {
   "cell_type": "code",
   "execution_count": null,
   "metadata": {},
   "outputs": [],
   "source": [
    "res_consumption_df = pd.DataFrame({\"State\":state, \"2015\":y2015_data, \"2014\":y2014_data, \"2013\":y2013_data, \"2012\":y2012_data,\n",
    "                                   \"2011\":y2011_data, \"2010\":y2010_data, \"2009\":y2009_data, \"2008\":y2008_data, \"2007\":y2007_data,\n",
    "                                   \"2006\":y2006_data, \"2005\":y2005_data, \"2004\":y2004_data, \"2003\":y2003_data, \"2002\":y2002_data,\n",
    "                                   \"2001\":y2001_data, \"2000\":y2000_data})\n",
    "res_consumption_df"
   ]
  },
  {
   "cell_type": "code",
   "execution_count": null,
   "metadata": {},
   "outputs": [],
   "source": [
    "#Set state as index in dataframe\n",
    "res_consumption_df = res_consumption_df.set_index(\"State\")\n",
    "res_consumption_df"
   ]
  },
  {
   "cell_type": "code",
   "execution_count": null,
   "metadata": {},
   "outputs": [],
   "source": [
    "res_consumption_df.to_csv(\"Residential_Energy_Consumption.csv\")"
   ]
  },
  {
   "cell_type": "code",
   "execution_count": null,
   "metadata": {},
   "outputs": [],
   "source": [
    "#Calculate total residential energy consumption from 2000-2015 per state and add a column to showcase totals\n",
    "state_total = res_consumption_df.sum(axis=1)\n",
    "state_total\n",
    "\n",
    "res_consumption_df[\"SubTotal\"] = state_total\n",
    "res_consumption_df"
   ]
  },
  {
   "cell_type": "code",
   "execution_count": null,
   "metadata": {},
   "outputs": [],
   "source": [
    "#Make state the index\n",
    "res_consumption_df = res_consumption_df.set_index(\"State\")\n",
    "res_consumption_df"
   ]
  },
  {
   "cell_type": "code",
   "execution_count": null,
   "metadata": {},
   "outputs": [],
   "source": [
    "#Create a bar plot to visualize total state consumption throughout the pre-selected time period\n",
    "#Remove row with USA totals\n",
    "df1 = df.drop(df.index[50])\n",
    "df1\n",
    "\n",
    "totals = df1[\"SubTotal\"]\n",
    "states = df1.index.values\n",
    "ttl = \"Total Residential Consumption of Energy per State from 2000-2015\"\n",
    "\n",
    "x = states\n",
    "y = totals.values\n",
    "x_position = [0,1,2,3,4,5,6,7,8,9,10,11,12,13,14,15,16,17,18,19,20,21,22,23,24,25,26,27,28,29,30,31,32,33,34,35,36,37,38,39,40,\n",
    "              41,42,43,44,45,46,47,48,49,50]\n",
    "\n",
    "plt.figure(figsize=(20,8))\n",
    "plt.bar(x, y, width=0.3, align=\"center\")\n",
    "plt.title(ttl, pad=25)\n",
    "plt.xlabel(\"State\")\n",
    "plt.ylabel(\"Consumption (Billion BTUs)\")\n",
    "plt.xticks(x, rotation='vertical')\n",
    "plt.tick_params(axis='x', labelsize=8)\n",
    "plt.xlim(-0.5, (len(x) - 0.5))\n",
    "plt.tight_layout()\n",
    "plt.show()"
   ]
  }
 ],
 "metadata": {
  "kernelspec": {
   "display_name": "Python [conda env:PythonData] *",
   "language": "python",
   "name": "conda-env-PythonData-py"
  },
  "language_info": {
   "codemirror_mode": {
    "name": "ipython",
    "version": 3
   },
   "file_extension": ".py",
   "mimetype": "text/x-python",
   "name": "python",
   "nbconvert_exporter": "python",
   "pygments_lexer": "ipython3",
   "version": "3.6.10"
  }
 },
 "nbformat": 4,
 "nbformat_minor": 4
}
